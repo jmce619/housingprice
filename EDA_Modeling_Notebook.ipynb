{
 "cells": [
  {
   "cell_type": "markdown",
   "metadata": {},
   "source": [
    "# Predicting Ames Housing Prices using various Linear Regression Models"
   ]
  },
  {
   "cell_type": "markdown",
   "metadata": {},
   "source": [
    "### by Jamie McElhiney"
   ]
  },
  {
   "cell_type": "markdown",
   "metadata": {},
   "source": [
    "## Problem Statement"
   ]
  },
  {
   "cell_type": "markdown",
   "metadata": {},
   "source": [
    "How can we accurately predict housing prices? We want to pose as a real estate consultant and my clients are people who want to sell their houses. Its important to give an accurate quote on house price tag since people want their house to be sold within a reasonable time frame and at a good price so they get their money's worth. Also, a lot of people make a living off of flipping houses, so being able to maximize profit in these cases is important. We are going to build a baseline model trained on the data set found on kaggle here:[Ames Housing Data](https://www.kaggle.com/c/dsi-us-10-project-2-regression-challenge/data). We will then use a RidgeCV fit to produce a more accurate model and compare and contrast their metrics. We have to think about we handle outliers that (we think) will strongly affect our model? How bout features that are very similar in nature and are related? What metrics are we going to look at to determine accuracy. What are the best practices for making sure all of our linear assumptions are met? We are going to try and address all these questions and issues and build the best possible linear model. "
   ]
  },
  {
   "cell_type": "markdown",
   "metadata": {},
   "source": [
    "## Executive Summary"
   ]
  },
  {
   "cell_type": "markdown",
   "metadata": {},
   "source": [
    "We are using the dataset linked above to train an advanced regression model to come to a conclusion about how to price our clients houses. We want to identify features that are have high correlation coefficients and will be persent in our model so we can advise our clients appropriately. For example our kitchen quality feature is highly correlated with Sale Price, so if a home has a below average kitchen, a renovation may be needed.   \n",
    "    We looked at some outliers with simple scatter plots and dug into the dataset to see if there was any indication of why their price was not in line with the data. We found nothing to indicate a reason, so they were dropped from the sit.  \n",
    "    We also thought about our geographic region in this case, Ames, Iowa, and determine why certain features may have high correlations and did some background research into why that may be. We used a heat map of highest correlated features with sale price to see which features stuck out. We found most of our Basement features, such as total basement square footage and basement exposure had high correlation. This is specific to Iowa because Iowa is in a tornado-heavy area and residents usually seek shelter in their basements while they wait for the tornado to pass. This is why Basement features hold more weight in our model and why we include them when developing a baseline model and moving forward.   \n",
    "    We ran into issues with null values and we wanted to fill them appropriately. Using the [Data Dictionary](http://jse.amstat.org/v19n3/decock/DataDocumentation.txt), I looked at what the equivalent of a null values was for each feature. For example a null value in a continuous variable would be filled with 0. A null value in a feature where the original corresponding feature did not exist, would be filled with NA or None depending on the feature and again, referring to the data dictionary linked above. \n",
    "    Some features were engineered, specifically a feature that combined full bathrooms and half bathrooms. We also made an age sold feature, the age of the house when it was sold, and a year remodeled before feature, a feature saying how long ago from the sale year was the house remodeled. If features were added or subtracted to create a new feature, they were not included in the model. \n",
    "    Logarithmic transformations were applied to larger continuous variables to normalize their distribution so they could work with our model. These decision were based on our EDA histogram subplots and variables that have heavy skew were transformed. Dummy columns were created from values that could not be quantified so we could accout for neighborhoods, different types, and miscellaneous features. Any feature that COULD be quantified, their values were mapped to integers usually ranking from 1-7 or however many types/values were available. \n",
    "    Root mean squared error was used to evaluate our model's accuracy. the root mean squared error is determined by equation. $$\\text{RMSE}=\\sqrt{\\text{MSE}}=\\sqrt{\\sum_{i=1}^{n}{(\\hat{y}_i-y_i)}^2}$$\n",
    "We started with a basic OLS model and determined performance with the RMSE value of 34,593.29 dollars. We then moved to a Lasso regressio model, evaluated its performance with similar standards and proved it to be a much more accurate model to our clients with the provided RMSE of 19,044.27 dollars. \n"
   ]
  },
  {
   "cell_type": "code",
   "execution_count": 1,
   "metadata": {},
   "outputs": [],
   "source": [
    "##Importing packages\n",
    "import numpy as np\n",
    "import pandas as pd\n",
    "import matplotlib.pyplot as plt\n",
    "import seaborn as sns\n",
    "from sklearn.linear_model import LinearRegression,LassoCV,RidgeCV,ElasticNetCV\n",
    "from sklearn.model_selection import train_test_split, cross_val_score\n",
    "from sklearn.metrics import mean_squared_error\n",
    "import statsmodels.api as sm\n",
    "from statsmodels.stats.outliers_influence import variance_inflation_factor\n",
    "from sklearn import metrics\n",
    "from sklearn.preprocessing import StandardScaler, PolynomialFeatures\n",
    "from statsmodels.formula.api import ols\n",
    "from numpy import ma\n",
    "pd.options.display.max_columns = None"
   ]
  },
  {
   "cell_type": "code",
   "execution_count": 2,
   "metadata": {},
   "outputs": [],
   "source": [
    "##read in csv with pd.read_csv\n",
    "train2=pd.read_csv('./datasets/train.csv')\n",
    "test2=pd.read_csv('./datasets/test.csv')"
   ]
  },
  {
   "cell_type": "markdown",
   "metadata": {},
   "source": [
    "The data notebook mentions outliers that we may want to consider removing. So lets take a look"
   ]
  },
  {
   "cell_type": "code",
   "execution_count": 3,
   "metadata": {},
   "outputs": [
    {
     "data": {
      "text/html": [
       "<div>\n",
       "<style scoped>\n",
       "    .dataframe tbody tr th:only-of-type {\n",
       "        vertical-align: middle;\n",
       "    }\n",
       "\n",
       "    .dataframe tbody tr th {\n",
       "        vertical-align: top;\n",
       "    }\n",
       "\n",
       "    .dataframe thead th {\n",
       "        text-align: right;\n",
       "    }\n",
       "</style>\n",
       "<table border=\"1\" class=\"dataframe\">\n",
       "  <thead>\n",
       "    <tr style=\"text-align: right;\">\n",
       "      <th></th>\n",
       "      <th>Id</th>\n",
       "      <th>PID</th>\n",
       "      <th>MS SubClass</th>\n",
       "      <th>MS Zoning</th>\n",
       "      <th>Lot Frontage</th>\n",
       "      <th>Lot Area</th>\n",
       "      <th>Street</th>\n",
       "      <th>Alley</th>\n",
       "      <th>Lot Shape</th>\n",
       "      <th>Land Contour</th>\n",
       "      <th>Utilities</th>\n",
       "      <th>Lot Config</th>\n",
       "      <th>Land Slope</th>\n",
       "      <th>Neighborhood</th>\n",
       "      <th>Condition 1</th>\n",
       "      <th>Condition 2</th>\n",
       "      <th>Bldg Type</th>\n",
       "      <th>House Style</th>\n",
       "      <th>Overall Qual</th>\n",
       "      <th>Overall Cond</th>\n",
       "      <th>Year Built</th>\n",
       "      <th>Year Remod/Add</th>\n",
       "      <th>Roof Style</th>\n",
       "      <th>Roof Matl</th>\n",
       "      <th>Exterior 1st</th>\n",
       "      <th>Exterior 2nd</th>\n",
       "      <th>Mas Vnr Type</th>\n",
       "      <th>Mas Vnr Area</th>\n",
       "      <th>Exter Qual</th>\n",
       "      <th>Exter Cond</th>\n",
       "      <th>Foundation</th>\n",
       "      <th>Bsmt Qual</th>\n",
       "      <th>Bsmt Cond</th>\n",
       "      <th>Bsmt Exposure</th>\n",
       "      <th>BsmtFin Type 1</th>\n",
       "      <th>BsmtFin SF 1</th>\n",
       "      <th>BsmtFin Type 2</th>\n",
       "      <th>BsmtFin SF 2</th>\n",
       "      <th>Bsmt Unf SF</th>\n",
       "      <th>Total Bsmt SF</th>\n",
       "      <th>Heating</th>\n",
       "      <th>Heating QC</th>\n",
       "      <th>Central Air</th>\n",
       "      <th>Electrical</th>\n",
       "      <th>1st Flr SF</th>\n",
       "      <th>2nd Flr SF</th>\n",
       "      <th>Low Qual Fin SF</th>\n",
       "      <th>Gr Liv Area</th>\n",
       "      <th>Bsmt Full Bath</th>\n",
       "      <th>Bsmt Half Bath</th>\n",
       "      <th>Full Bath</th>\n",
       "      <th>Half Bath</th>\n",
       "      <th>Bedroom AbvGr</th>\n",
       "      <th>Kitchen AbvGr</th>\n",
       "      <th>Kitchen Qual</th>\n",
       "      <th>TotRms AbvGrd</th>\n",
       "      <th>Functional</th>\n",
       "      <th>Fireplaces</th>\n",
       "      <th>Fireplace Qu</th>\n",
       "      <th>Garage Type</th>\n",
       "      <th>Garage Yr Blt</th>\n",
       "      <th>Garage Finish</th>\n",
       "      <th>Garage Cars</th>\n",
       "      <th>Garage Area</th>\n",
       "      <th>Garage Qual</th>\n",
       "      <th>Garage Cond</th>\n",
       "      <th>Paved Drive</th>\n",
       "      <th>Wood Deck SF</th>\n",
       "      <th>Open Porch SF</th>\n",
       "      <th>Enclosed Porch</th>\n",
       "      <th>3Ssn Porch</th>\n",
       "      <th>Screen Porch</th>\n",
       "      <th>Pool Area</th>\n",
       "      <th>Pool QC</th>\n",
       "      <th>Fence</th>\n",
       "      <th>Misc Feature</th>\n",
       "      <th>Misc Val</th>\n",
       "      <th>Mo Sold</th>\n",
       "      <th>Yr Sold</th>\n",
       "      <th>Sale Type</th>\n",
       "      <th>SalePrice</th>\n",
       "    </tr>\n",
       "  </thead>\n",
       "  <tbody>\n",
       "    <tr>\n",
       "      <th>0</th>\n",
       "      <td>109</td>\n",
       "      <td>533352170</td>\n",
       "      <td>60</td>\n",
       "      <td>RL</td>\n",
       "      <td>NaN</td>\n",
       "      <td>13517</td>\n",
       "      <td>Pave</td>\n",
       "      <td>NaN</td>\n",
       "      <td>IR1</td>\n",
       "      <td>Lvl</td>\n",
       "      <td>AllPub</td>\n",
       "      <td>CulDSac</td>\n",
       "      <td>Gtl</td>\n",
       "      <td>Sawyer</td>\n",
       "      <td>RRAe</td>\n",
       "      <td>Norm</td>\n",
       "      <td>1Fam</td>\n",
       "      <td>2Story</td>\n",
       "      <td>6</td>\n",
       "      <td>8</td>\n",
       "      <td>1976</td>\n",
       "      <td>2005</td>\n",
       "      <td>Gable</td>\n",
       "      <td>CompShg</td>\n",
       "      <td>HdBoard</td>\n",
       "      <td>Plywood</td>\n",
       "      <td>BrkFace</td>\n",
       "      <td>289.0</td>\n",
       "      <td>Gd</td>\n",
       "      <td>TA</td>\n",
       "      <td>CBlock</td>\n",
       "      <td>TA</td>\n",
       "      <td>TA</td>\n",
       "      <td>No</td>\n",
       "      <td>GLQ</td>\n",
       "      <td>533.0</td>\n",
       "      <td>Unf</td>\n",
       "      <td>0.0</td>\n",
       "      <td>192.0</td>\n",
       "      <td>725.0</td>\n",
       "      <td>GasA</td>\n",
       "      <td>Ex</td>\n",
       "      <td>Y</td>\n",
       "      <td>SBrkr</td>\n",
       "      <td>725</td>\n",
       "      <td>754</td>\n",
       "      <td>0</td>\n",
       "      <td>1479</td>\n",
       "      <td>0.0</td>\n",
       "      <td>0.0</td>\n",
       "      <td>2</td>\n",
       "      <td>1</td>\n",
       "      <td>3</td>\n",
       "      <td>1</td>\n",
       "      <td>Gd</td>\n",
       "      <td>6</td>\n",
       "      <td>Typ</td>\n",
       "      <td>0</td>\n",
       "      <td>NaN</td>\n",
       "      <td>Attchd</td>\n",
       "      <td>1976.0</td>\n",
       "      <td>RFn</td>\n",
       "      <td>2.0</td>\n",
       "      <td>475.0</td>\n",
       "      <td>TA</td>\n",
       "      <td>TA</td>\n",
       "      <td>Y</td>\n",
       "      <td>0</td>\n",
       "      <td>44</td>\n",
       "      <td>0</td>\n",
       "      <td>0</td>\n",
       "      <td>0</td>\n",
       "      <td>0</td>\n",
       "      <td>NaN</td>\n",
       "      <td>NaN</td>\n",
       "      <td>NaN</td>\n",
       "      <td>0</td>\n",
       "      <td>3</td>\n",
       "      <td>2010</td>\n",
       "      <td>WD</td>\n",
       "      <td>130500</td>\n",
       "    </tr>\n",
       "    <tr>\n",
       "      <th>1</th>\n",
       "      <td>544</td>\n",
       "      <td>531379050</td>\n",
       "      <td>60</td>\n",
       "      <td>RL</td>\n",
       "      <td>43.0</td>\n",
       "      <td>11492</td>\n",
       "      <td>Pave</td>\n",
       "      <td>NaN</td>\n",
       "      <td>IR1</td>\n",
       "      <td>Lvl</td>\n",
       "      <td>AllPub</td>\n",
       "      <td>CulDSac</td>\n",
       "      <td>Gtl</td>\n",
       "      <td>SawyerW</td>\n",
       "      <td>Norm</td>\n",
       "      <td>Norm</td>\n",
       "      <td>1Fam</td>\n",
       "      <td>2Story</td>\n",
       "      <td>7</td>\n",
       "      <td>5</td>\n",
       "      <td>1996</td>\n",
       "      <td>1997</td>\n",
       "      <td>Gable</td>\n",
       "      <td>CompShg</td>\n",
       "      <td>VinylSd</td>\n",
       "      <td>VinylSd</td>\n",
       "      <td>BrkFace</td>\n",
       "      <td>132.0</td>\n",
       "      <td>Gd</td>\n",
       "      <td>TA</td>\n",
       "      <td>PConc</td>\n",
       "      <td>Gd</td>\n",
       "      <td>TA</td>\n",
       "      <td>No</td>\n",
       "      <td>GLQ</td>\n",
       "      <td>637.0</td>\n",
       "      <td>Unf</td>\n",
       "      <td>0.0</td>\n",
       "      <td>276.0</td>\n",
       "      <td>913.0</td>\n",
       "      <td>GasA</td>\n",
       "      <td>Ex</td>\n",
       "      <td>Y</td>\n",
       "      <td>SBrkr</td>\n",
       "      <td>913</td>\n",
       "      <td>1209</td>\n",
       "      <td>0</td>\n",
       "      <td>2122</td>\n",
       "      <td>1.0</td>\n",
       "      <td>0.0</td>\n",
       "      <td>2</td>\n",
       "      <td>1</td>\n",
       "      <td>4</td>\n",
       "      <td>1</td>\n",
       "      <td>Gd</td>\n",
       "      <td>8</td>\n",
       "      <td>Typ</td>\n",
       "      <td>1</td>\n",
       "      <td>TA</td>\n",
       "      <td>Attchd</td>\n",
       "      <td>1997.0</td>\n",
       "      <td>RFn</td>\n",
       "      <td>2.0</td>\n",
       "      <td>559.0</td>\n",
       "      <td>TA</td>\n",
       "      <td>TA</td>\n",
       "      <td>Y</td>\n",
       "      <td>0</td>\n",
       "      <td>74</td>\n",
       "      <td>0</td>\n",
       "      <td>0</td>\n",
       "      <td>0</td>\n",
       "      <td>0</td>\n",
       "      <td>NaN</td>\n",
       "      <td>NaN</td>\n",
       "      <td>NaN</td>\n",
       "      <td>0</td>\n",
       "      <td>4</td>\n",
       "      <td>2009</td>\n",
       "      <td>WD</td>\n",
       "      <td>220000</td>\n",
       "    </tr>\n",
       "  </tbody>\n",
       "</table>\n",
       "</div>"
      ],
      "text/plain": [
       "    Id        PID  MS SubClass MS Zoning  Lot Frontage  Lot Area Street Alley  \\\n",
       "0  109  533352170           60        RL           NaN     13517   Pave   NaN   \n",
       "1  544  531379050           60        RL          43.0     11492   Pave   NaN   \n",
       "\n",
       "  Lot Shape Land Contour Utilities Lot Config Land Slope Neighborhood  \\\n",
       "0       IR1          Lvl    AllPub    CulDSac        Gtl       Sawyer   \n",
       "1       IR1          Lvl    AllPub    CulDSac        Gtl      SawyerW   \n",
       "\n",
       "  Condition 1 Condition 2 Bldg Type House Style  Overall Qual  Overall Cond  \\\n",
       "0        RRAe        Norm      1Fam      2Story             6             8   \n",
       "1        Norm        Norm      1Fam      2Story             7             5   \n",
       "\n",
       "   Year Built  Year Remod/Add Roof Style Roof Matl Exterior 1st Exterior 2nd  \\\n",
       "0        1976            2005      Gable   CompShg      HdBoard      Plywood   \n",
       "1        1996            1997      Gable   CompShg      VinylSd      VinylSd   \n",
       "\n",
       "  Mas Vnr Type  Mas Vnr Area Exter Qual Exter Cond Foundation Bsmt Qual  \\\n",
       "0      BrkFace         289.0         Gd         TA     CBlock        TA   \n",
       "1      BrkFace         132.0         Gd         TA      PConc        Gd   \n",
       "\n",
       "  Bsmt Cond Bsmt Exposure BsmtFin Type 1  BsmtFin SF 1 BsmtFin Type 2  \\\n",
       "0        TA            No            GLQ         533.0            Unf   \n",
       "1        TA            No            GLQ         637.0            Unf   \n",
       "\n",
       "   BsmtFin SF 2  Bsmt Unf SF  Total Bsmt SF Heating Heating QC Central Air  \\\n",
       "0           0.0        192.0          725.0    GasA         Ex           Y   \n",
       "1           0.0        276.0          913.0    GasA         Ex           Y   \n",
       "\n",
       "  Electrical  1st Flr SF  2nd Flr SF  Low Qual Fin SF  Gr Liv Area  \\\n",
       "0      SBrkr         725         754                0         1479   \n",
       "1      SBrkr         913        1209                0         2122   \n",
       "\n",
       "   Bsmt Full Bath  Bsmt Half Bath  Full Bath  Half Bath  Bedroom AbvGr  \\\n",
       "0             0.0             0.0          2          1              3   \n",
       "1             1.0             0.0          2          1              4   \n",
       "\n",
       "   Kitchen AbvGr Kitchen Qual  TotRms AbvGrd Functional  Fireplaces  \\\n",
       "0              1           Gd              6        Typ           0   \n",
       "1              1           Gd              8        Typ           1   \n",
       "\n",
       "  Fireplace Qu Garage Type  Garage Yr Blt Garage Finish  Garage Cars  \\\n",
       "0          NaN      Attchd         1976.0           RFn          2.0   \n",
       "1           TA      Attchd         1997.0           RFn          2.0   \n",
       "\n",
       "   Garage Area Garage Qual Garage Cond Paved Drive  Wood Deck SF  \\\n",
       "0        475.0          TA          TA           Y             0   \n",
       "1        559.0          TA          TA           Y             0   \n",
       "\n",
       "   Open Porch SF  Enclosed Porch  3Ssn Porch  Screen Porch  Pool Area Pool QC  \\\n",
       "0             44               0           0             0          0     NaN   \n",
       "1             74               0           0             0          0     NaN   \n",
       "\n",
       "  Fence Misc Feature  Misc Val  Mo Sold  Yr Sold Sale Type  SalePrice  \n",
       "0   NaN          NaN         0        3     2010       WD      130500  \n",
       "1   NaN          NaN         0        4     2009       WD      220000  "
      ]
     },
     "execution_count": 3,
     "metadata": {},
     "output_type": "execute_result"
    }
   ],
   "source": [
    "train2.head(2)"
   ]
  },
  {
   "cell_type": "markdown",
   "metadata": {},
   "source": [
    "## EDA"
   ]
  },
  {
   "cell_type": "markdown",
   "metadata": {},
   "source": [
    "### Missing values"
   ]
  },
  {
   "cell_type": "code",
   "execution_count": 4,
   "metadata": {},
   "outputs": [
    {
     "data": {
      "text/plain": [
       "Pool QC           2042\n",
       "Misc Feature      1986\n",
       "Alley             1911\n",
       "Fence             1651\n",
       "Fireplace Qu      1000\n",
       "Lot Frontage       330\n",
       "Garage Finish      114\n",
       "Garage Cond        114\n",
       "Garage Qual        114\n",
       "Garage Yr Blt      114\n",
       "Garage Type        113\n",
       "Bsmt Exposure       58\n",
       "BsmtFin Type 2      56\n",
       "BsmtFin Type 1      55\n",
       "Bsmt Cond           55\n",
       "Bsmt Qual           55\n",
       "Mas Vnr Type        22\n",
       "Mas Vnr Area        22\n",
       "Bsmt Half Bath       2\n",
       "Bsmt Full Bath       2\n",
       "Garage Cars          1\n",
       "Garage Area          1\n",
       "Bsmt Unf SF          1\n",
       "BsmtFin SF 2         1\n",
       "Total Bsmt SF        1\n",
       "BsmtFin SF 1         1\n",
       "Overall Cond         0\n",
       "Exterior 2nd         0\n",
       "Exterior 1st         0\n",
       "Roof Matl            0\n",
       "dtype: int64"
      ]
     },
     "execution_count": 4,
     "metadata": {},
     "output_type": "execute_result"
    }
   ],
   "source": [
    "train2.isnull().sum().sort_values(ascending=False).head(30)"
   ]
  },
  {
   "cell_type": "code",
   "execution_count": 5,
   "metadata": {},
   "outputs": [
    {
     "data": {
      "text/plain": [
       "Pool QC           0.995612\n",
       "Misc Feature      0.968308\n",
       "Alley             0.931741\n",
       "Fence             0.804973\n",
       "Fireplace Qu      0.487567\n",
       "Lot Frontage      0.160897\n",
       "Garage Finish     0.055583\n",
       "Garage Cond       0.055583\n",
       "Garage Qual       0.055583\n",
       "Garage Yr Blt     0.055583\n",
       "Garage Type       0.055095\n",
       "Bsmt Exposure     0.028279\n",
       "BsmtFin Type 2    0.027304\n",
       "BsmtFin Type 1    0.026816\n",
       "Bsmt Cond         0.026816\n",
       "dtype: float64"
      ]
     },
     "execution_count": 5,
     "metadata": {},
     "output_type": "execute_result"
    }
   ],
   "source": [
    "train2.isnull().mean().sort_values(ascending=False).head(15)"
   ]
  },
  {
   "cell_type": "markdown",
   "metadata": {},
   "source": [
    "### Outlier detection\n",
    "A major part of our exploratory data analysis involves detecting outliers that may severely alter the accuracy of our model, or may have be something we just want to keep our eyes on. "
   ]
  },
  {
   "cell_type": "code",
   "execution_count": 6,
   "metadata": {
    "scrolled": false
   },
   "outputs": [
    {
     "data": {
      "text/plain": [
       "Text(0, 0.5, 'Price ($)')"
      ]
     },
     "execution_count": 6,
     "metadata": {},
     "output_type": "execute_result"
    },
    {
     "data": {
      "image/png": "[encoded data removed]",
      "text/plain": [
       "<Figure size 432x288 with 1 Axes>"
      ]
     },
     "metadata": {
      "needs_background": "light"
     },
     "output_type": "display_data"
    }
   ],
   "source": [
    "plt.scatter(train2['Gr Liv Area'],train2['SalePrice'],color='purple',alpha=0.5)\n",
    "plt.xlabel('Square Feet')\n",
    "plt.title('Above Ground Living Area vs Sale Price')\n",
    "plt.ylabel('Price ($)')"
   ]
  },
  {
   "cell_type": "markdown",
   "metadata": {},
   "source": [
    "Scatter Plot: We want to identify the outliers discussed in the notebook based on GrLivArea and Sale Price. "
   ]
  },
  {
   "cell_type": "code",
   "execution_count": 7,
   "metadata": {
    "scrolled": true
   },
   "outputs": [
    {
     "data": {
      "text/html": [
       "<div>\n",
       "<style scoped>\n",
       "    .dataframe tbody tr th:only-of-type {\n",
       "        vertical-align: middle;\n",
       "    }\n",
       "\n",
       "    .dataframe tbody tr th {\n",
       "        vertical-align: top;\n",
       "    }\n",
       "\n",
       "    .dataframe thead th {\n",
       "        text-align: right;\n",
       "    }\n",
       "</style>\n",
       "<table border=\"1\" class=\"dataframe\">\n",
       "  <thead>\n",
       "    <tr style=\"text-align: right;\">\n",
       "      <th></th>\n",
       "      <th>Id</th>\n",
       "      <th>PID</th>\n",
       "      <th>MS SubClass</th>\n",
       "      <th>MS Zoning</th>\n",
       "      <th>Lot Frontage</th>\n",
       "      <th>Lot Area</th>\n",
       "      <th>Street</th>\n",
       "      <th>Alley</th>\n",
       "      <th>Lot Shape</th>\n",
       "      <th>Land Contour</th>\n",
       "      <th>Utilities</th>\n",
       "      <th>Lot Config</th>\n",
       "      <th>Land Slope</th>\n",
       "      <th>Neighborhood</th>\n",
       "      <th>Condition 1</th>\n",
       "      <th>Condition 2</th>\n",
       "      <th>Bldg Type</th>\n",
       "      <th>House Style</th>\n",
       "      <th>Overall Qual</th>\n",
       "      <th>Overall Cond</th>\n",
       "      <th>Year Built</th>\n",
       "      <th>Year Remod/Add</th>\n",
       "      <th>Roof Style</th>\n",
       "      <th>Roof Matl</th>\n",
       "      <th>Exterior 1st</th>\n",
       "      <th>Exterior 2nd</th>\n",
       "      <th>Mas Vnr Type</th>\n",
       "      <th>Mas Vnr Area</th>\n",
       "      <th>Exter Qual</th>\n",
       "      <th>Exter Cond</th>\n",
       "      <th>Foundation</th>\n",
       "      <th>Bsmt Qual</th>\n",
       "      <th>Bsmt Cond</th>\n",
       "      <th>Bsmt Exposure</th>\n",
       "      <th>BsmtFin Type 1</th>\n",
       "      <th>BsmtFin SF 1</th>\n",
       "      <th>BsmtFin Type 2</th>\n",
       "      <th>BsmtFin SF 2</th>\n",
       "      <th>Bsmt Unf SF</th>\n",
       "      <th>Total Bsmt SF</th>\n",
       "      <th>Heating</th>\n",
       "      <th>Heating QC</th>\n",
       "      <th>Central Air</th>\n",
       "      <th>Electrical</th>\n",
       "      <th>1st Flr SF</th>\n",
       "      <th>2nd Flr SF</th>\n",
       "      <th>Low Qual Fin SF</th>\n",
       "      <th>Gr Liv Area</th>\n",
       "      <th>Bsmt Full Bath</th>\n",
       "      <th>Bsmt Half Bath</th>\n",
       "      <th>Full Bath</th>\n",
       "      <th>Half Bath</th>\n",
       "      <th>Bedroom AbvGr</th>\n",
       "      <th>Kitchen AbvGr</th>\n",
       "      <th>Kitchen Qual</th>\n",
       "      <th>TotRms AbvGrd</th>\n",
       "      <th>Functional</th>\n",
       "      <th>Fireplaces</th>\n",
       "      <th>Fireplace Qu</th>\n",
       "      <th>Garage Type</th>\n",
       "      <th>Garage Yr Blt</th>\n",
       "      <th>Garage Finish</th>\n",
       "      <th>Garage Cars</th>\n",
       "      <th>Garage Area</th>\n",
       "      <th>Garage Qual</th>\n",
       "      <th>Garage Cond</th>\n",
       "      <th>Paved Drive</th>\n",
       "      <th>Wood Deck SF</th>\n",
       "      <th>Open Porch SF</th>\n",
       "      <th>Enclosed Porch</th>\n",
       "      <th>3Ssn Porch</th>\n",
       "      <th>Screen Porch</th>\n",
       "      <th>Pool Area</th>\n",
       "      <th>Pool QC</th>\n",
       "      <th>Fence</th>\n",
       "      <th>Misc Feature</th>\n",
       "      <th>Misc Val</th>\n",
       "      <th>Mo Sold</th>\n",
       "      <th>Yr Sold</th>\n",
       "      <th>Sale Type</th>\n",
       "      <th>SalePrice</th>\n",
       "    </tr>\n",
       "  </thead>\n",
       "  <tbody>\n",
       "    <tr>\n",
       "      <th>960</th>\n",
       "      <td>1499</td>\n",
       "      <td>908154235</td>\n",
       "      <td>60</td>\n",
       "      <td>RL</td>\n",
       "      <td>313.0</td>\n",
       "      <td>63887</td>\n",
       "      <td>Pave</td>\n",
       "      <td>NaN</td>\n",
       "      <td>IR3</td>\n",
       "      <td>Bnk</td>\n",
       "      <td>AllPub</td>\n",
       "      <td>Corner</td>\n",
       "      <td>Gtl</td>\n",
       "      <td>Edwards</td>\n",
       "      <td>Feedr</td>\n",
       "      <td>Norm</td>\n",
       "      <td>1Fam</td>\n",
       "      <td>2Story</td>\n",
       "      <td>10</td>\n",
       "      <td>5</td>\n",
       "      <td>2008</td>\n",
       "      <td>2008</td>\n",
       "      <td>Hip</td>\n",
       "      <td>ClyTile</td>\n",
       "      <td>Stucco</td>\n",
       "      <td>Stucco</td>\n",
       "      <td>Stone</td>\n",
       "      <td>796.0</td>\n",
       "      <td>Ex</td>\n",
       "      <td>TA</td>\n",
       "      <td>PConc</td>\n",
       "      <td>Ex</td>\n",
       "      <td>TA</td>\n",
       "      <td>Gd</td>\n",
       "      <td>GLQ</td>\n",
       "      <td>5644.0</td>\n",
       "      <td>Unf</td>\n",
       "      <td>0.0</td>\n",
       "      <td>466.0</td>\n",
       "      <td>6110.0</td>\n",
       "      <td>GasA</td>\n",
       "      <td>Ex</td>\n",
       "      <td>Y</td>\n",
       "      <td>SBrkr</td>\n",
       "      <td>4692</td>\n",
       "      <td>950</td>\n",
       "      <td>0</td>\n",
       "      <td>5642</td>\n",
       "      <td>2.0</td>\n",
       "      <td>0.0</td>\n",
       "      <td>2</td>\n",
       "      <td>1</td>\n",
       "      <td>3</td>\n",
       "      <td>1</td>\n",
       "      <td>Ex</td>\n",
       "      <td>12</td>\n",
       "      <td>Typ</td>\n",
       "      <td>3</td>\n",
       "      <td>Gd</td>\n",
       "      <td>Attchd</td>\n",
       "      <td>2008.0</td>\n",
       "      <td>Fin</td>\n",
       "      <td>2.0</td>\n",
       "      <td>1418.0</td>\n",
       "      <td>TA</td>\n",
       "      <td>TA</td>\n",
       "      <td>Y</td>\n",
       "      <td>214</td>\n",
       "      <td>292</td>\n",
       "      <td>0</td>\n",
       "      <td>0</td>\n",
       "      <td>0</td>\n",
       "      <td>480</td>\n",
       "      <td>Gd</td>\n",
       "      <td>NaN</td>\n",
       "      <td>NaN</td>\n",
       "      <td>0</td>\n",
       "      <td>1</td>\n",
       "      <td>2008</td>\n",
       "      <td>New</td>\n",
       "      <td>160000</td>\n",
       "    </tr>\n",
       "    <tr>\n",
       "      <th>1885</th>\n",
       "      <td>2181</td>\n",
       "      <td>908154195</td>\n",
       "      <td>20</td>\n",
       "      <td>RL</td>\n",
       "      <td>128.0</td>\n",
       "      <td>39290</td>\n",
       "      <td>Pave</td>\n",
       "      <td>NaN</td>\n",
       "      <td>IR1</td>\n",
       "      <td>Bnk</td>\n",
       "      <td>AllPub</td>\n",
       "      <td>Inside</td>\n",
       "      <td>Gtl</td>\n",
       "      <td>Edwards</td>\n",
       "      <td>Norm</td>\n",
       "      <td>Norm</td>\n",
       "      <td>1Fam</td>\n",
       "      <td>1Story</td>\n",
       "      <td>10</td>\n",
       "      <td>5</td>\n",
       "      <td>2008</td>\n",
       "      <td>2009</td>\n",
       "      <td>Hip</td>\n",
       "      <td>CompShg</td>\n",
       "      <td>CemntBd</td>\n",
       "      <td>CmentBd</td>\n",
       "      <td>Stone</td>\n",
       "      <td>1224.0</td>\n",
       "      <td>Ex</td>\n",
       "      <td>TA</td>\n",
       "      <td>PConc</td>\n",
       "      <td>Ex</td>\n",
       "      <td>TA</td>\n",
       "      <td>Gd</td>\n",
       "      <td>GLQ</td>\n",
       "      <td>4010.0</td>\n",
       "      <td>Unf</td>\n",
       "      <td>0.0</td>\n",
       "      <td>1085.0</td>\n",
       "      <td>5095.0</td>\n",
       "      <td>GasA</td>\n",
       "      <td>Ex</td>\n",
       "      <td>Y</td>\n",
       "      <td>SBrkr</td>\n",
       "      <td>5095</td>\n",
       "      <td>0</td>\n",
       "      <td>0</td>\n",
       "      <td>5095</td>\n",
       "      <td>1.0</td>\n",
       "      <td>1.0</td>\n",
       "      <td>2</td>\n",
       "      <td>1</td>\n",
       "      <td>2</td>\n",
       "      <td>1</td>\n",
       "      <td>Ex</td>\n",
       "      <td>15</td>\n",
       "      <td>Typ</td>\n",
       "      <td>2</td>\n",
       "      <td>Gd</td>\n",
       "      <td>Attchd</td>\n",
       "      <td>2008.0</td>\n",
       "      <td>Fin</td>\n",
       "      <td>3.0</td>\n",
       "      <td>1154.0</td>\n",
       "      <td>TA</td>\n",
       "      <td>TA</td>\n",
       "      <td>Y</td>\n",
       "      <td>546</td>\n",
       "      <td>484</td>\n",
       "      <td>0</td>\n",
       "      <td>0</td>\n",
       "      <td>0</td>\n",
       "      <td>0</td>\n",
       "      <td>NaN</td>\n",
       "      <td>NaN</td>\n",
       "      <td>Elev</td>\n",
       "      <td>17000</td>\n",
       "      <td>10</td>\n",
       "      <td>2007</td>\n",
       "      <td>New</td>\n",
       "      <td>183850</td>\n",
       "    </tr>\n",
       "  </tbody>\n",
       "</table>\n",
       "</div>"
      ],
      "text/plain": [
       "        Id        PID  MS SubClass MS Zoning  Lot Frontage  Lot Area Street  \\\n",
       "960   1499  908154235           60        RL         313.0     63887   Pave   \n",
       "1885  2181  908154195           20        RL         128.0     39290   Pave   \n",
       "\n",
       "     Alley Lot Shape Land Contour Utilities Lot Config Land Slope  \\\n",
       "960    NaN       IR3          Bnk    AllPub     Corner        Gtl   \n",
       "1885   NaN       IR1          Bnk    AllPub     Inside        Gtl   \n",
       "\n",
       "     Neighborhood Condition 1 Condition 2 Bldg Type House Style  Overall Qual  \\\n",
       "960       Edwards       Feedr        Norm      1Fam      2Story            10   \n",
       "1885      Edwards        Norm        Norm      1Fam      1Story            10   \n",
       "\n",
       "      Overall Cond  Year Built  Year Remod/Add Roof Style Roof Matl  \\\n",
       "960              5        2008            2008        Hip   ClyTile   \n",
       "1885             5        2008            2009        Hip   CompShg   \n",
       "\n",
       "     Exterior 1st Exterior 2nd Mas Vnr Type  Mas Vnr Area Exter Qual  \\\n",
       "960        Stucco       Stucco        Stone         796.0         Ex   \n",
       "1885      CemntBd      CmentBd        Stone        1224.0         Ex   \n",
       "\n",
       "     Exter Cond Foundation Bsmt Qual Bsmt Cond Bsmt Exposure BsmtFin Type 1  \\\n",
       "960          TA      PConc        Ex        TA            Gd            GLQ   \n",
       "1885         TA      PConc        Ex        TA            Gd            GLQ   \n",
       "\n",
       "      BsmtFin SF 1 BsmtFin Type 2  BsmtFin SF 2  Bsmt Unf SF  Total Bsmt SF  \\\n",
       "960         5644.0            Unf           0.0        466.0         6110.0   \n",
       "1885        4010.0            Unf           0.0       1085.0         5095.0   \n",
       "\n",
       "     Heating Heating QC Central Air Electrical  1st Flr SF  2nd Flr SF  \\\n",
       "960     GasA         Ex           Y      SBrkr        4692         950   \n",
       "1885    GasA         Ex           Y      SBrkr        5095           0   \n",
       "\n",
       "      Low Qual Fin SF  Gr Liv Area  Bsmt Full Bath  Bsmt Half Bath  Full Bath  \\\n",
       "960                 0         5642             2.0             0.0          2   \n",
       "1885                0         5095             1.0             1.0          2   \n",
       "\n",
       "      Half Bath  Bedroom AbvGr  Kitchen AbvGr Kitchen Qual  TotRms AbvGrd  \\\n",
       "960           1              3              1           Ex             12   \n",
       "1885          1              2              1           Ex             15   \n",
       "\n",
       "     Functional  Fireplaces Fireplace Qu Garage Type  Garage Yr Blt  \\\n",
       "960         Typ           3           Gd      Attchd         2008.0   \n",
       "1885        Typ           2           Gd      Attchd         2008.0   \n",
       "\n",
       "     Garage Finish  Garage Cars  Garage Area Garage Qual Garage Cond  \\\n",
       "960            Fin          2.0       1418.0          TA          TA   \n",
       "1885           Fin          3.0       1154.0          TA          TA   \n",
       "\n",
       "     Paved Drive  Wood Deck SF  Open Porch SF  Enclosed Porch  3Ssn Porch  \\\n",
       "960            Y           214            292               0           0   \n",
       "1885           Y           546            484               0           0   \n",
       "\n",
       "      Screen Porch  Pool Area Pool QC Fence Misc Feature  Misc Val  Mo Sold  \\\n",
       "960              0        480      Gd   NaN          NaN         0        1   \n",
       "1885             0          0     NaN   NaN         Elev     17000       10   \n",
       "\n",
       "      Yr Sold Sale Type  SalePrice  \n",
       "960      2008       New     160000  \n",
       "1885     2007       New     183850  "
      ]
     },
     "execution_count": 7,
     "metadata": {},
     "output_type": "execute_result"
    }
   ],
   "source": [
    "train2[train2['Gr Liv Area']>4000]"
   ]
  },
  {
   "cell_type": "markdown",
   "metadata": {},
   "source": [
    "Lets look through features to see if anything sets these apart that would be a reason for them having such low sale price (looking at Sale Type specifically). So no there is no indication, looks like they are real outliers, so we will drop these observations. "
   ]
  },
  {
   "cell_type": "code",
   "execution_count": 8,
   "metadata": {},
   "outputs": [
    {
     "data": {
      "text/plain": [
       "Text(0, 0.5, 'Price ($)')"
      ]
     },
     "execution_count": 8,
     "metadata": {},
     "output_type": "execute_result"
    },
    {
     "data": {
      "image/png": "[encoded data removed]",
      "text/plain": [
       "<Figure size 432x288 with 1 Axes>"
      ]
     },
     "metadata": {
      "needs_background": "light"
     },
     "output_type": "display_data"
    }
   ],
   "source": [
    "plt.scatter(train2['Lot Area'],train2['SalePrice'],color='red',alpha=0.5)\n",
    "plt.xlabel('Square Feet')\n",
    "plt.title('Lot Area vs Sale Price')\n",
    "plt.ylabel('Price ($)')"
   ]
  },
  {
   "cell_type": "markdown",
   "metadata": {},
   "source": [
    "Same case for Lot Area. Lets identify these outliers and decide. "
   ]
  },
  {
   "cell_type": "code",
   "execution_count": 9,
   "metadata": {
    "scrolled": true
   },
   "outputs": [
    {
     "data": {
      "text/html": [
       "<div>\n",
       "<style scoped>\n",
       "    .dataframe tbody tr th:only-of-type {\n",
       "        vertical-align: middle;\n",
       "    }\n",
       "\n",
       "    .dataframe tbody tr th {\n",
       "        vertical-align: top;\n",
       "    }\n",
       "\n",
       "    .dataframe thead th {\n",
       "        text-align: right;\n",
       "    }\n",
       "</style>\n",
       "<table border=\"1\" class=\"dataframe\">\n",
       "  <thead>\n",
       "    <tr style=\"text-align: right;\">\n",
       "      <th></th>\n",
       "      <th>Id</th>\n",
       "      <th>PID</th>\n",
       "      <th>MS SubClass</th>\n",
       "      <th>MS Zoning</th>\n",
       "      <th>Lot Frontage</th>\n",
       "      <th>Lot Area</th>\n",
       "      <th>Street</th>\n",
       "      <th>Alley</th>\n",
       "      <th>Lot Shape</th>\n",
       "      <th>Land Contour</th>\n",
       "      <th>Utilities</th>\n",
       "      <th>Lot Config</th>\n",
       "      <th>Land Slope</th>\n",
       "      <th>Neighborhood</th>\n",
       "      <th>Condition 1</th>\n",
       "      <th>Condition 2</th>\n",
       "      <th>Bldg Type</th>\n",
       "      <th>House Style</th>\n",
       "      <th>Overall Qual</th>\n",
       "      <th>Overall Cond</th>\n",
       "      <th>Year Built</th>\n",
       "      <th>Year Remod/Add</th>\n",
       "      <th>Roof Style</th>\n",
       "      <th>Roof Matl</th>\n",
       "      <th>Exterior 1st</th>\n",
       "      <th>Exterior 2nd</th>\n",
       "      <th>Mas Vnr Type</th>\n",
       "      <th>Mas Vnr Area</th>\n",
       "      <th>Exter Qual</th>\n",
       "      <th>Exter Cond</th>\n",
       "      <th>Foundation</th>\n",
       "      <th>Bsmt Qual</th>\n",
       "      <th>Bsmt Cond</th>\n",
       "      <th>Bsmt Exposure</th>\n",
       "      <th>BsmtFin Type 1</th>\n",
       "      <th>BsmtFin SF 1</th>\n",
       "      <th>BsmtFin Type 2</th>\n",
       "      <th>BsmtFin SF 2</th>\n",
       "      <th>Bsmt Unf SF</th>\n",
       "      <th>Total Bsmt SF</th>\n",
       "      <th>Heating</th>\n",
       "      <th>Heating QC</th>\n",
       "      <th>Central Air</th>\n",
       "      <th>Electrical</th>\n",
       "      <th>1st Flr SF</th>\n",
       "      <th>2nd Flr SF</th>\n",
       "      <th>Low Qual Fin SF</th>\n",
       "      <th>Gr Liv Area</th>\n",
       "      <th>Bsmt Full Bath</th>\n",
       "      <th>Bsmt Half Bath</th>\n",
       "      <th>Full Bath</th>\n",
       "      <th>Half Bath</th>\n",
       "      <th>Bedroom AbvGr</th>\n",
       "      <th>Kitchen AbvGr</th>\n",
       "      <th>Kitchen Qual</th>\n",
       "      <th>TotRms AbvGrd</th>\n",
       "      <th>Functional</th>\n",
       "      <th>Fireplaces</th>\n",
       "      <th>Fireplace Qu</th>\n",
       "      <th>Garage Type</th>\n",
       "      <th>Garage Yr Blt</th>\n",
       "      <th>Garage Finish</th>\n",
       "      <th>Garage Cars</th>\n",
       "      <th>Garage Area</th>\n",
       "      <th>Garage Qual</th>\n",
       "      <th>Garage Cond</th>\n",
       "      <th>Paved Drive</th>\n",
       "      <th>Wood Deck SF</th>\n",
       "      <th>Open Porch SF</th>\n",
       "      <th>Enclosed Porch</th>\n",
       "      <th>3Ssn Porch</th>\n",
       "      <th>Screen Porch</th>\n",
       "      <th>Pool Area</th>\n",
       "      <th>Pool QC</th>\n",
       "      <th>Fence</th>\n",
       "      <th>Misc Feature</th>\n",
       "      <th>Misc Val</th>\n",
       "      <th>Mo Sold</th>\n",
       "      <th>Yr Sold</th>\n",
       "      <th>Sale Type</th>\n",
       "      <th>SalePrice</th>\n",
       "    </tr>\n",
       "  </thead>\n",
       "  <tbody>\n",
       "    <tr>\n",
       "      <th>471</th>\n",
       "      <td>2116</td>\n",
       "      <td>906426060</td>\n",
       "      <td>50</td>\n",
       "      <td>RL</td>\n",
       "      <td>NaN</td>\n",
       "      <td>159000</td>\n",
       "      <td>Pave</td>\n",
       "      <td>NaN</td>\n",
       "      <td>IR2</td>\n",
       "      <td>Low</td>\n",
       "      <td>AllPub</td>\n",
       "      <td>CulDSac</td>\n",
       "      <td>Sev</td>\n",
       "      <td>ClearCr</td>\n",
       "      <td>Norm</td>\n",
       "      <td>Norm</td>\n",
       "      <td>1Fam</td>\n",
       "      <td>1.5Fin</td>\n",
       "      <td>6</td>\n",
       "      <td>7</td>\n",
       "      <td>1958</td>\n",
       "      <td>2006</td>\n",
       "      <td>Gable</td>\n",
       "      <td>CompShg</td>\n",
       "      <td>Wd Sdng</td>\n",
       "      <td>HdBoard</td>\n",
       "      <td>BrkCmn</td>\n",
       "      <td>472.0</td>\n",
       "      <td>Gd</td>\n",
       "      <td>TA</td>\n",
       "      <td>CBlock</td>\n",
       "      <td>Gd</td>\n",
       "      <td>TA</td>\n",
       "      <td>Gd</td>\n",
       "      <td>Rec</td>\n",
       "      <td>697.0</td>\n",
       "      <td>Unf</td>\n",
       "      <td>0.0</td>\n",
       "      <td>747.0</td>\n",
       "      <td>1444.0</td>\n",
       "      <td>GasA</td>\n",
       "      <td>Gd</td>\n",
       "      <td>Y</td>\n",
       "      <td>SBrkr</td>\n",
       "      <td>1444</td>\n",
       "      <td>700</td>\n",
       "      <td>0</td>\n",
       "      <td>2144</td>\n",
       "      <td>0.0</td>\n",
       "      <td>1.0</td>\n",
       "      <td>2</td>\n",
       "      <td>0</td>\n",
       "      <td>4</td>\n",
       "      <td>1</td>\n",
       "      <td>Gd</td>\n",
       "      <td>7</td>\n",
       "      <td>Typ</td>\n",
       "      <td>2</td>\n",
       "      <td>TA</td>\n",
       "      <td>Attchd</td>\n",
       "      <td>1958.0</td>\n",
       "      <td>Fin</td>\n",
       "      <td>2.0</td>\n",
       "      <td>389.0</td>\n",
       "      <td>TA</td>\n",
       "      <td>TA</td>\n",
       "      <td>Y</td>\n",
       "      <td>0</td>\n",
       "      <td>98</td>\n",
       "      <td>0</td>\n",
       "      <td>0</td>\n",
       "      <td>0</td>\n",
       "      <td>0</td>\n",
       "      <td>NaN</td>\n",
       "      <td>NaN</td>\n",
       "      <td>Shed</td>\n",
       "      <td>500</td>\n",
       "      <td>6</td>\n",
       "      <td>2007</td>\n",
       "      <td>WD</td>\n",
       "      <td>277000</td>\n",
       "    </tr>\n",
       "    <tr>\n",
       "      <th>694</th>\n",
       "      <td>2072</td>\n",
       "      <td>905301050</td>\n",
       "      <td>20</td>\n",
       "      <td>RL</td>\n",
       "      <td>NaN</td>\n",
       "      <td>115149</td>\n",
       "      <td>Pave</td>\n",
       "      <td>NaN</td>\n",
       "      <td>IR2</td>\n",
       "      <td>Low</td>\n",
       "      <td>AllPub</td>\n",
       "      <td>CulDSac</td>\n",
       "      <td>Sev</td>\n",
       "      <td>ClearCr</td>\n",
       "      <td>Norm</td>\n",
       "      <td>Norm</td>\n",
       "      <td>1Fam</td>\n",
       "      <td>1Story</td>\n",
       "      <td>7</td>\n",
       "      <td>5</td>\n",
       "      <td>1971</td>\n",
       "      <td>2002</td>\n",
       "      <td>Gable</td>\n",
       "      <td>CompShg</td>\n",
       "      <td>Plywood</td>\n",
       "      <td>Plywood</td>\n",
       "      <td>Stone</td>\n",
       "      <td>351.0</td>\n",
       "      <td>TA</td>\n",
       "      <td>TA</td>\n",
       "      <td>CBlock</td>\n",
       "      <td>Gd</td>\n",
       "      <td>TA</td>\n",
       "      <td>Gd</td>\n",
       "      <td>GLQ</td>\n",
       "      <td>1219.0</td>\n",
       "      <td>Unf</td>\n",
       "      <td>0.0</td>\n",
       "      <td>424.0</td>\n",
       "      <td>1643.0</td>\n",
       "      <td>GasA</td>\n",
       "      <td>TA</td>\n",
       "      <td>Y</td>\n",
       "      <td>SBrkr</td>\n",
       "      <td>1824</td>\n",
       "      <td>0</td>\n",
       "      <td>0</td>\n",
       "      <td>1824</td>\n",
       "      <td>1.0</td>\n",
       "      <td>0.0</td>\n",
       "      <td>2</td>\n",
       "      <td>0</td>\n",
       "      <td>2</td>\n",
       "      <td>1</td>\n",
       "      <td>Gd</td>\n",
       "      <td>5</td>\n",
       "      <td>Typ</td>\n",
       "      <td>2</td>\n",
       "      <td>TA</td>\n",
       "      <td>Attchd</td>\n",
       "      <td>1971.0</td>\n",
       "      <td>Unf</td>\n",
       "      <td>2.0</td>\n",
       "      <td>739.0</td>\n",
       "      <td>TA</td>\n",
       "      <td>TA</td>\n",
       "      <td>Y</td>\n",
       "      <td>380</td>\n",
       "      <td>48</td>\n",
       "      <td>0</td>\n",
       "      <td>0</td>\n",
       "      <td>0</td>\n",
       "      <td>0</td>\n",
       "      <td>NaN</td>\n",
       "      <td>NaN</td>\n",
       "      <td>NaN</td>\n",
       "      <td>0</td>\n",
       "      <td>6</td>\n",
       "      <td>2007</td>\n",
       "      <td>WD</td>\n",
       "      <td>302000</td>\n",
       "    </tr>\n",
       "  </tbody>\n",
       "</table>\n",
       "</div>"
      ],
      "text/plain": [
       "       Id        PID  MS SubClass MS Zoning  Lot Frontage  Lot Area Street  \\\n",
       "471  2116  906426060           50        RL           NaN    159000   Pave   \n",
       "694  2072  905301050           20        RL           NaN    115149   Pave   \n",
       "\n",
       "    Alley Lot Shape Land Contour Utilities Lot Config Land Slope Neighborhood  \\\n",
       "471   NaN       IR2          Low    AllPub    CulDSac        Sev      ClearCr   \n",
       "694   NaN       IR2          Low    AllPub    CulDSac        Sev      ClearCr   \n",
       "\n",
       "    Condition 1 Condition 2 Bldg Type House Style  Overall Qual  Overall Cond  \\\n",
       "471        Norm        Norm      1Fam      1.5Fin             6             7   \n",
       "694        Norm        Norm      1Fam      1Story             7             5   \n",
       "\n",
       "     Year Built  Year Remod/Add Roof Style Roof Matl Exterior 1st  \\\n",
       "471        1958            2006      Gable   CompShg      Wd Sdng   \n",
       "694        1971            2002      Gable   CompShg      Plywood   \n",
       "\n",
       "    Exterior 2nd Mas Vnr Type  Mas Vnr Area Exter Qual Exter Cond Foundation  \\\n",
       "471      HdBoard       BrkCmn         472.0         Gd         TA     CBlock   \n",
       "694      Plywood        Stone         351.0         TA         TA     CBlock   \n",
       "\n",
       "    Bsmt Qual Bsmt Cond Bsmt Exposure BsmtFin Type 1  BsmtFin SF 1  \\\n",
       "471        Gd        TA            Gd            Rec         697.0   \n",
       "694        Gd        TA            Gd            GLQ        1219.0   \n",
       "\n",
       "    BsmtFin Type 2  BsmtFin SF 2  Bsmt Unf SF  Total Bsmt SF Heating  \\\n",
       "471            Unf           0.0        747.0         1444.0    GasA   \n",
       "694            Unf           0.0        424.0         1643.0    GasA   \n",
       "\n",
       "    Heating QC Central Air Electrical  1st Flr SF  2nd Flr SF  \\\n",
       "471         Gd           Y      SBrkr        1444         700   \n",
       "694         TA           Y      SBrkr        1824           0   \n",
       "\n",
       "     Low Qual Fin SF  Gr Liv Area  Bsmt Full Bath  Bsmt Half Bath  Full Bath  \\\n",
       "471                0         2144             0.0             1.0          2   \n",
       "694                0         1824             1.0             0.0          2   \n",
       "\n",
       "     Half Bath  Bedroom AbvGr  Kitchen AbvGr Kitchen Qual  TotRms AbvGrd  \\\n",
       "471          0              4              1           Gd              7   \n",
       "694          0              2              1           Gd              5   \n",
       "\n",
       "    Functional  Fireplaces Fireplace Qu Garage Type  Garage Yr Blt  \\\n",
       "471        Typ           2           TA      Attchd         1958.0   \n",
       "694        Typ           2           TA      Attchd         1971.0   \n",
       "\n",
       "    Garage Finish  Garage Cars  Garage Area Garage Qual Garage Cond  \\\n",
       "471           Fin          2.0        389.0          TA          TA   \n",
       "694           Unf          2.0        739.0          TA          TA   \n",
       "\n",
       "    Paved Drive  Wood Deck SF  Open Porch SF  Enclosed Porch  3Ssn Porch  \\\n",
       "471           Y             0             98               0           0   \n",
       "694           Y           380             48               0           0   \n",
       "\n",
       "     Screen Porch  Pool Area Pool QC Fence Misc Feature  Misc Val  Mo Sold  \\\n",
       "471             0          0     NaN   NaN         Shed       500        6   \n",
       "694             0          0     NaN   NaN          NaN         0        6   \n",
       "\n",
       "     Yr Sold Sale Type  SalePrice  \n",
       "471     2007       WD      277000  \n",
       "694     2007       WD      302000  "
      ]
     },
     "execution_count": 9,
     "metadata": {},
     "output_type": "execute_result"
    }
   ],
   "source": [
    "train2[train2['Lot Area']>100000]"
   ]
  },
  {
   "cell_type": "markdown",
   "metadata": {},
   "source": [
    "Again, looks like they're real outliers. Lets drop all of these."
   ]
  },
  {
   "cell_type": "code",
   "execution_count": 10,
   "metadata": {},
   "outputs": [],
   "source": [
    "train2.drop([960,1885],inplace=True)\n",
    "train2.drop([471,694],inplace=True)"
   ]
  },
  {
   "cell_type": "markdown",
   "metadata": {},
   "source": [
    "#### Checking time-related variables"
   ]
  },
  {
   "cell_type": "markdown",
   "metadata": {},
   "source": [
    "Garage from future?\n"
   ]
  },
  {
   "cell_type": "code",
   "execution_count": 11,
   "metadata": {},
   "outputs": [
    {
     "data": {
      "text/plain": [
       "count    1933.000000\n",
       "mean     1978.692188\n",
       "std        25.445003\n",
       "min      1895.000000\n",
       "25%      1961.000000\n",
       "50%      1980.000000\n",
       "75%      2002.000000\n",
       "max      2207.000000\n",
       "Name: Garage Yr Blt, dtype: float64"
      ]
     },
     "execution_count": 11,
     "metadata": {},
     "output_type": "execute_result"
    }
   ],
   "source": [
    "train2[\"Garage Yr Blt\"].describe()\n"
   ]
  },
  {
   "cell_type": "code",
   "execution_count": 12,
   "metadata": {},
   "outputs": [
    {
     "data": {
      "text/html": [
       "<div>\n",
       "<style scoped>\n",
       "    .dataframe tbody tr th:only-of-type {\n",
       "        vertical-align: middle;\n",
       "    }\n",
       "\n",
       "    .dataframe tbody tr th {\n",
       "        vertical-align: top;\n",
       "    }\n",
       "\n",
       "    .dataframe thead th {\n",
       "        text-align: right;\n",
       "    }\n",
       "</style>\n",
       "<table border=\"1\" class=\"dataframe\">\n",
       "  <thead>\n",
       "    <tr style=\"text-align: right;\">\n",
       "      <th></th>\n",
       "      <th>Id</th>\n",
       "      <th>PID</th>\n",
       "      <th>MS SubClass</th>\n",
       "      <th>MS Zoning</th>\n",
       "      <th>Lot Frontage</th>\n",
       "      <th>Lot Area</th>\n",
       "      <th>Street</th>\n",
       "      <th>Alley</th>\n",
       "      <th>Lot Shape</th>\n",
       "      <th>Land Contour</th>\n",
       "      <th>Utilities</th>\n",
       "      <th>Lot Config</th>\n",
       "      <th>Land Slope</th>\n",
       "      <th>Neighborhood</th>\n",
       "      <th>Condition 1</th>\n",
       "      <th>Condition 2</th>\n",
       "      <th>Bldg Type</th>\n",
       "      <th>House Style</th>\n",
       "      <th>Overall Qual</th>\n",
       "      <th>Overall Cond</th>\n",
       "      <th>Year Built</th>\n",
       "      <th>Year Remod/Add</th>\n",
       "      <th>Roof Style</th>\n",
       "      <th>Roof Matl</th>\n",
       "      <th>Exterior 1st</th>\n",
       "      <th>Exterior 2nd</th>\n",
       "      <th>Mas Vnr Type</th>\n",
       "      <th>Mas Vnr Area</th>\n",
       "      <th>Exter Qual</th>\n",
       "      <th>Exter Cond</th>\n",
       "      <th>Foundation</th>\n",
       "      <th>Bsmt Qual</th>\n",
       "      <th>Bsmt Cond</th>\n",
       "      <th>Bsmt Exposure</th>\n",
       "      <th>BsmtFin Type 1</th>\n",
       "      <th>BsmtFin SF 1</th>\n",
       "      <th>BsmtFin Type 2</th>\n",
       "      <th>BsmtFin SF 2</th>\n",
       "      <th>Bsmt Unf SF</th>\n",
       "      <th>Total Bsmt SF</th>\n",
       "      <th>Heating</th>\n",
       "      <th>Heating QC</th>\n",
       "      <th>Central Air</th>\n",
       "      <th>Electrical</th>\n",
       "      <th>1st Flr SF</th>\n",
       "      <th>2nd Flr SF</th>\n",
       "      <th>Low Qual Fin SF</th>\n",
       "      <th>Gr Liv Area</th>\n",
       "      <th>Bsmt Full Bath</th>\n",
       "      <th>Bsmt Half Bath</th>\n",
       "      <th>Full Bath</th>\n",
       "      <th>Half Bath</th>\n",
       "      <th>Bedroom AbvGr</th>\n",
       "      <th>Kitchen AbvGr</th>\n",
       "      <th>Kitchen Qual</th>\n",
       "      <th>TotRms AbvGrd</th>\n",
       "      <th>Functional</th>\n",
       "      <th>Fireplaces</th>\n",
       "      <th>Fireplace Qu</th>\n",
       "      <th>Garage Type</th>\n",
       "      <th>Garage Yr Blt</th>\n",
       "      <th>Garage Finish</th>\n",
       "      <th>Garage Cars</th>\n",
       "      <th>Garage Area</th>\n",
       "      <th>Garage Qual</th>\n",
       "      <th>Garage Cond</th>\n",
       "      <th>Paved Drive</th>\n",
       "      <th>Wood Deck SF</th>\n",
       "      <th>Open Porch SF</th>\n",
       "      <th>Enclosed Porch</th>\n",
       "      <th>3Ssn Porch</th>\n",
       "      <th>Screen Porch</th>\n",
       "      <th>Pool Area</th>\n",
       "      <th>Pool QC</th>\n",
       "      <th>Fence</th>\n",
       "      <th>Misc Feature</th>\n",
       "      <th>Misc Val</th>\n",
       "      <th>Mo Sold</th>\n",
       "      <th>Yr Sold</th>\n",
       "      <th>Sale Type</th>\n",
       "      <th>SalePrice</th>\n",
       "    </tr>\n",
       "  </thead>\n",
       "  <tbody>\n",
       "    <tr>\n",
       "      <th>1699</th>\n",
       "      <td>2261</td>\n",
       "      <td>916384070</td>\n",
       "      <td>20</td>\n",
       "      <td>RL</td>\n",
       "      <td>68.0</td>\n",
       "      <td>8298</td>\n",
       "      <td>Pave</td>\n",
       "      <td>NaN</td>\n",
       "      <td>IR1</td>\n",
       "      <td>HLS</td>\n",
       "      <td>AllPub</td>\n",
       "      <td>Inside</td>\n",
       "      <td>Gtl</td>\n",
       "      <td>Timber</td>\n",
       "      <td>Norm</td>\n",
       "      <td>Norm</td>\n",
       "      <td>1Fam</td>\n",
       "      <td>1Story</td>\n",
       "      <td>8</td>\n",
       "      <td>5</td>\n",
       "      <td>2006</td>\n",
       "      <td>2007</td>\n",
       "      <td>Hip</td>\n",
       "      <td>CompShg</td>\n",
       "      <td>VinylSd</td>\n",
       "      <td>VinylSd</td>\n",
       "      <td>NaN</td>\n",
       "      <td>NaN</td>\n",
       "      <td>Gd</td>\n",
       "      <td>TA</td>\n",
       "      <td>PConc</td>\n",
       "      <td>Gd</td>\n",
       "      <td>TA</td>\n",
       "      <td>Av</td>\n",
       "      <td>GLQ</td>\n",
       "      <td>583.0</td>\n",
       "      <td>Unf</td>\n",
       "      <td>0.0</td>\n",
       "      <td>963.0</td>\n",
       "      <td>1546.0</td>\n",
       "      <td>GasA</td>\n",
       "      <td>Ex</td>\n",
       "      <td>Y</td>\n",
       "      <td>SBrkr</td>\n",
       "      <td>1564</td>\n",
       "      <td>0</td>\n",
       "      <td>0</td>\n",
       "      <td>1564</td>\n",
       "      <td>0.0</td>\n",
       "      <td>0.0</td>\n",
       "      <td>2</td>\n",
       "      <td>0</td>\n",
       "      <td>2</td>\n",
       "      <td>1</td>\n",
       "      <td>Ex</td>\n",
       "      <td>6</td>\n",
       "      <td>Typ</td>\n",
       "      <td>1</td>\n",
       "      <td>Gd</td>\n",
       "      <td>Attchd</td>\n",
       "      <td>2207.0</td>\n",
       "      <td>RFn</td>\n",
       "      <td>2.0</td>\n",
       "      <td>502.0</td>\n",
       "      <td>TA</td>\n",
       "      <td>TA</td>\n",
       "      <td>Y</td>\n",
       "      <td>132</td>\n",
       "      <td>0</td>\n",
       "      <td>0</td>\n",
       "      <td>0</td>\n",
       "      <td>0</td>\n",
       "      <td>0</td>\n",
       "      <td>NaN</td>\n",
       "      <td>NaN</td>\n",
       "      <td>NaN</td>\n",
       "      <td>0</td>\n",
       "      <td>9</td>\n",
       "      <td>2007</td>\n",
       "      <td>New</td>\n",
       "      <td>267300</td>\n",
       "    </tr>\n",
       "  </tbody>\n",
       "</table>\n",
       "</div>"
      ],
      "text/plain": [
       "        Id        PID  MS SubClass MS Zoning  Lot Frontage  Lot Area Street  \\\n",
       "1699  2261  916384070           20        RL          68.0      8298   Pave   \n",
       "\n",
       "     Alley Lot Shape Land Contour Utilities Lot Config Land Slope  \\\n",
       "1699   NaN       IR1          HLS    AllPub     Inside        Gtl   \n",
       "\n",
       "     Neighborhood Condition 1 Condition 2 Bldg Type House Style  Overall Qual  \\\n",
       "1699       Timber        Norm        Norm      1Fam      1Story             8   \n",
       "\n",
       "      Overall Cond  Year Built  Year Remod/Add Roof Style Roof Matl  \\\n",
       "1699             5        2006            2007        Hip   CompShg   \n",
       "\n",
       "     Exterior 1st Exterior 2nd Mas Vnr Type  Mas Vnr Area Exter Qual  \\\n",
       "1699      VinylSd      VinylSd          NaN           NaN         Gd   \n",
       "\n",
       "     Exter Cond Foundation Bsmt Qual Bsmt Cond Bsmt Exposure BsmtFin Type 1  \\\n",
       "1699         TA      PConc        Gd        TA            Av            GLQ   \n",
       "\n",
       "      BsmtFin SF 1 BsmtFin Type 2  BsmtFin SF 2  Bsmt Unf SF  Total Bsmt SF  \\\n",
       "1699         583.0            Unf           0.0        963.0         1546.0   \n",
       "\n",
       "     Heating Heating QC Central Air Electrical  1st Flr SF  2nd Flr SF  \\\n",
       "1699    GasA         Ex           Y      SBrkr        1564           0   \n",
       "\n",
       "      Low Qual Fin SF  Gr Liv Area  Bsmt Full Bath  Bsmt Half Bath  Full Bath  \\\n",
       "1699                0         1564             0.0             0.0          2   \n",
       "\n",
       "      Half Bath  Bedroom AbvGr  Kitchen AbvGr Kitchen Qual  TotRms AbvGrd  \\\n",
       "1699          0              2              1           Ex              6   \n",
       "\n",
       "     Functional  Fireplaces Fireplace Qu Garage Type  Garage Yr Blt  \\\n",
       "1699        Typ           1           Gd      Attchd         2207.0   \n",
       "\n",
       "     Garage Finish  Garage Cars  Garage Area Garage Qual Garage Cond  \\\n",
       "1699           RFn          2.0        502.0          TA          TA   \n",
       "\n",
       "     Paved Drive  Wood Deck SF  Open Porch SF  Enclosed Porch  3Ssn Porch  \\\n",
       "1699           Y           132              0               0           0   \n",
       "\n",
       "      Screen Porch  Pool Area Pool QC Fence Misc Feature  Misc Val  Mo Sold  \\\n",
       "1699             0          0     NaN   NaN          NaN         0        9   \n",
       "\n",
       "      Yr Sold Sale Type  SalePrice  \n",
       "1699     2007       New     267300  "
      ]
     },
     "execution_count": 12,
     "metadata": {},
     "output_type": "execute_result"
    }
   ],
   "source": [
    "train2[train2['Garage Yr Blt']>2019]"
   ]
  },
  {
   "cell_type": "code",
   "execution_count": 13,
   "metadata": {},
   "outputs": [],
   "source": [
    "#Lets set to 2007 as it is probably just a typo \n",
    "#we look into the data to see yr built is 2006 and year add/mod is 2007.\n",
    "train2.loc[1699,'Garage Yr Blt']=2007"
   ]
  },
  {
   "cell_type": "code",
   "execution_count": 14,
   "metadata": {},
   "outputs": [
    {
     "data": {
      "text/plain": [
       "count    2047.000000\n",
       "mean     1984.147044\n",
       "std        21.033822\n",
       "min      1950.000000\n",
       "25%      1964.000000\n",
       "50%      1993.000000\n",
       "75%      2004.000000\n",
       "max      2010.000000\n",
       "Name: Year Remod/Add, dtype: float64"
      ]
     },
     "execution_count": 14,
     "metadata": {},
     "output_type": "execute_result"
    }
   ],
   "source": [
    "train2[\"Year Remod/Add\"].describe()\n"
   ]
  },
  {
   "cell_type": "code",
   "execution_count": 15,
   "metadata": {
    "scrolled": true
   },
   "outputs": [
    {
     "data": {
      "text/html": [
       "<div>\n",
       "<style scoped>\n",
       "    .dataframe tbody tr th:only-of-type {\n",
       "        vertical-align: middle;\n",
       "    }\n",
       "\n",
       "    .dataframe tbody tr th {\n",
       "        vertical-align: top;\n",
       "    }\n",
       "\n",
       "    .dataframe thead th {\n",
       "        text-align: right;\n",
       "    }\n",
       "</style>\n",
       "<table border=\"1\" class=\"dataframe\">\n",
       "  <thead>\n",
       "    <tr style=\"text-align: right;\">\n",
       "      <th></th>\n",
       "      <th>Year Built</th>\n",
       "      <th>Garage Yr Blt</th>\n",
       "    </tr>\n",
       "  </thead>\n",
       "  <tbody>\n",
       "    <tr>\n",
       "      <th>72</th>\n",
       "      <td>1959</td>\n",
       "      <td>1954.0</td>\n",
       "    </tr>\n",
       "    <tr>\n",
       "      <th>77</th>\n",
       "      <td>1927</td>\n",
       "      <td>1920.0</td>\n",
       "    </tr>\n",
       "    <tr>\n",
       "      <th>336</th>\n",
       "      <td>1935</td>\n",
       "      <td>1920.0</td>\n",
       "    </tr>\n",
       "    <tr>\n",
       "      <th>493</th>\n",
       "      <td>1935</td>\n",
       "      <td>1926.0</td>\n",
       "    </tr>\n",
       "    <tr>\n",
       "      <th>533</th>\n",
       "      <td>1941</td>\n",
       "      <td>1940.0</td>\n",
       "    </tr>\n",
       "    <tr>\n",
       "      <th>902</th>\n",
       "      <td>2006</td>\n",
       "      <td>2005.0</td>\n",
       "    </tr>\n",
       "    <tr>\n",
       "      <th>1076</th>\n",
       "      <td>1923</td>\n",
       "      <td>1922.0</td>\n",
       "    </tr>\n",
       "    <tr>\n",
       "      <th>1686</th>\n",
       "      <td>1950</td>\n",
       "      <td>1949.0</td>\n",
       "    </tr>\n",
       "    <tr>\n",
       "      <th>1716</th>\n",
       "      <td>1930</td>\n",
       "      <td>1925.0</td>\n",
       "    </tr>\n",
       "    <tr>\n",
       "      <th>1907</th>\n",
       "      <td>1963</td>\n",
       "      <td>1962.0</td>\n",
       "    </tr>\n",
       "    <tr>\n",
       "      <th>1964</th>\n",
       "      <td>2006</td>\n",
       "      <td>2005.0</td>\n",
       "    </tr>\n",
       "  </tbody>\n",
       "</table>\n",
       "</div>"
      ],
      "text/plain": [
       "      Year Built  Garage Yr Blt\n",
       "72          1959         1954.0\n",
       "77          1927         1920.0\n",
       "336         1935         1920.0\n",
       "493         1935         1926.0\n",
       "533         1941         1940.0\n",
       "902         2006         2005.0\n",
       "1076        1923         1922.0\n",
       "1686        1950         1949.0\n",
       "1716        1930         1925.0\n",
       "1907        1963         1962.0\n",
       "1964        2006         2005.0"
      ]
     },
     "execution_count": 15,
     "metadata": {},
     "output_type": "execute_result"
    }
   ],
   "source": [
    "#Year Built after garage as built?\n",
    "train2[(train2['Year Built']>train2['Garage Yr Blt'])][['Year Built','Garage Yr Blt']]"
   ]
  },
  {
   "cell_type": "markdown",
   "metadata": {},
   "source": [
    "We have a few points where the house was built after the garage was built. Nothing too outlandish here, as the garage may have been a living unit before and then converted to a garage. "
   ]
  },
  {
   "cell_type": "code",
   "execution_count": 16,
   "metadata": {},
   "outputs": [
    {
     "data": {
      "text/plain": [
       "(2047, 81)"
      ]
     },
     "execution_count": 16,
     "metadata": {},
     "output_type": "execute_result"
    }
   ],
   "source": [
    "train2.shape"
   ]
  },
  {
   "cell_type": "code",
   "execution_count": 17,
   "metadata": {},
   "outputs": [
    {
     "data": {
      "text/html": [
       "<div>\n",
       "<style scoped>\n",
       "    .dataframe tbody tr th:only-of-type {\n",
       "        vertical-align: middle;\n",
       "    }\n",
       "\n",
       "    .dataframe tbody tr th {\n",
       "        vertical-align: top;\n",
       "    }\n",
       "\n",
       "    .dataframe thead th {\n",
       "        text-align: right;\n",
       "    }\n",
       "</style>\n",
       "<table border=\"1\" class=\"dataframe\">\n",
       "  <thead>\n",
       "    <tr style=\"text-align: right;\">\n",
       "      <th></th>\n",
       "      <th>Pool Area</th>\n",
       "      <th>Pool QC</th>\n",
       "    </tr>\n",
       "  </thead>\n",
       "  <tbody>\n",
       "  </tbody>\n",
       "</table>\n",
       "</div>"
      ],
      "text/plain": [
       "Empty DataFrame\n",
       "Columns: [Pool Area, Pool QC]\n",
       "Index: []"
      ]
     },
     "execution_count": 17,
     "metadata": {},
     "output_type": "execute_result"
    }
   ],
   "source": [
    "train2[(train2['Pool Area']>0)&(train2['Pool QC'].isnull())][['Pool Area','Pool QC']]"
   ]
  },
  {
   "cell_type": "code",
   "execution_count": 18,
   "metadata": {},
   "outputs": [
    {
     "data": {
      "text/html": [
       "<div>\n",
       "<style scoped>\n",
       "    .dataframe tbody tr th:only-of-type {\n",
       "        vertical-align: middle;\n",
       "    }\n",
       "\n",
       "    .dataframe tbody tr th {\n",
       "        vertical-align: top;\n",
       "    }\n",
       "\n",
       "    .dataframe thead th {\n",
       "        text-align: right;\n",
       "    }\n",
       "</style>\n",
       "<table border=\"1\" class=\"dataframe\">\n",
       "  <thead>\n",
       "    <tr style=\"text-align: right;\">\n",
       "      <th></th>\n",
       "      <th>Fireplaces</th>\n",
       "      <th>Fireplace Qu</th>\n",
       "    </tr>\n",
       "  </thead>\n",
       "  <tbody>\n",
       "  </tbody>\n",
       "</table>\n",
       "</div>"
      ],
      "text/plain": [
       "Empty DataFrame\n",
       "Columns: [Fireplaces, Fireplace Qu]\n",
       "Index: []"
      ]
     },
     "execution_count": 18,
     "metadata": {},
     "output_type": "execute_result"
    }
   ],
   "source": [
    "train2[(train2['Fireplaces']>0)&(train2['Fireplace Qu'].isnull())][['Fireplaces','Fireplace Qu']]"
   ]
  },
  {
   "cell_type": "markdown",
   "metadata": {},
   "source": [
    "### Correlation Heatmap"
   ]
  },
  {
   "cell_type": "code",
   "execution_count": 19,
   "metadata": {
    "scrolled": false
   },
   "outputs": [
    {
     "data": {
      "text/plain": [
       "<matplotlib.axes._subplots.AxesSubplot at 0x7feab5da2dd0>"
      ]
     },
     "execution_count": 19,
     "metadata": {},
     "output_type": "execute_result"
    },
    {
     "data": {
      "image/png": "[encoded data removed]",
      "text/plain": [
       "<Figure size 648x648 with 2 Axes>"
      ]
     },
     "metadata": {
      "needs_background": "light"
     },
     "output_type": "display_data"
    }
   ],
   "source": [
    "plt.figure(figsize=(9,9))\n",
    "sns.heatmap(train2.corr()[['SalePrice']].drop('SalePrice').sort_values('SalePrice', ascending = False), annot = True, cmap = \"coolwarm\")\n"
   ]
  },
  {
   "cell_type": "markdown",
   "metadata": {},
   "source": [
    "Heatmap: Grabs top 20 correlation coefficients of our features in comparison with Sale Price. We can get a sense of what variables we may want to include in our model. We want high coefficients (close to 1 or -1) and may want to drop variables with coefficients near 0."
   ]
  },
  {
   "cell_type": "code",
   "execution_count": 20,
   "metadata": {
    "scrolled": true
   },
   "outputs": [
    {
     "data": {
      "text/plain": [
       "<seaborn.axisgrid.PairGrid at 0x7feabe4c7950>"
      ]
     },
     "execution_count": 20,
     "metadata": {},
     "output_type": "execute_result"
    },
    {
     "data": {
      "image/png": "[encoded data removed]",
      "text/plain": [
       "<Figure size 1620x180 with 9 Axes>"
      ]
     },
     "metadata": {
      "needs_background": "light"
     },
     "output_type": "display_data"
    }
   ],
   "source": [
    "sns.pairplot(train2,y_vars=['SalePrice'],x_vars=['Overall Qual', 'Lot Area','Lot Frontage','Garage Area','Garage Yr Blt',\n",
    "                                                'Mas Vnr Area','TotRms AbvGrd','Fireplaces','BsmtFin SF 1'])"
   ]
  },
  {
   "cell_type": "markdown",
   "metadata": {},
   "source": [
    "Pairplots to get more detailed visualizations of how each indp. variable is correlated with our response variable."
   ]
  },
  {
   "cell_type": "code",
   "execution_count": 21,
   "metadata": {},
   "outputs": [
    {
     "data": {
      "text/plain": [
       "Text(0.5, 1.0, 'Sale Price Distribution by Neighborhood')"
      ]
     },
     "execution_count": 21,
     "metadata": {},
     "output_type": "execute_result"
    },
    {
     "data": {
      "image/png": "[encoded data removed]",
      "text/plain": [
       "<Figure size 864x504 with 1 Axes>"
      ]
     },
     "metadata": {
      "needs_background": "light"
     },
     "output_type": "display_data"
    }
   ],
   "source": [
    "plt.figure(figsize=(12, 7))\n",
    "s=sns.boxplot(x='Neighborhood', y='SalePrice', data=train2, palette='winter')\n",
    "s.set_xticklabels(train2.Neighborhood.unique(), rotation = 45)\n",
    "s.set_title('Sale Price Distribution by Neighborhood')\n",
    "\n",
    "#g.set_xticks(range(len(df))) # <--- set the ticks first\n",
    "#g.set_xticklabels(['2011','2012','2013','2014','2015','2016','2017','2018'])"
   ]
  },
  {
   "cell_type": "markdown",
   "metadata": {},
   "source": [
    "Quick Box plot graph of sale price per neighborhood. We can more easily visualize the IQR of the range of sale prices per each neighborhood."
   ]
  },
  {
   "cell_type": "code",
   "execution_count": 22,
   "metadata": {
    "scrolled": false
   },
   "outputs": [
    {
     "name": "stderr",
     "output_type": "stream",
     "text": [
      "/opt/anaconda3/lib/python3.7/site-packages/numpy/lib/histograms.py:839: RuntimeWarning: invalid value encountered in greater_equal\n",
      "  keep = (tmp_a >= first_edge)\n",
      "/opt/anaconda3/lib/python3.7/site-packages/numpy/lib/histograms.py:840: RuntimeWarning: invalid value encountered in less_equal\n",
      "  keep &= (tmp_a <= last_edge)\n"
     ]
    },
    {
     "data": {
      "image/png": "[encoded data removed]",
      "text/plain": [
       "<Figure size 720x720 with 4 Axes>"
      ]
     },
     "metadata": {
      "needs_background": "light"
     },
     "output_type": "display_data"
    }
   ],
   "source": [
    "def subplot_histograms(dataframe, list_of_columns, list_of_titles,list_of_xlabels):\n",
    "    nrows = int(np.ceil(len(list_of_columns)/2)) # Makes sure you have enough rows\n",
    "    fig, ax = plt.subplots(nrows=nrows, ncols=2) # You'll want to specify your figsize\n",
    "    ax = ax.ravel() # Ravel turns a matrix into a vector, which is easier to iterate\n",
    "    for i, column in enumerate(list_of_columns): # Gives us an index value to get into all our lists\n",
    "        ax[i].hist(dataframe[column],bins=40) # feel free to add more settings\n",
    "        # Set titles, labels, etc here for each subplot\n",
    "        ax[i].set_xlabel(list_of_xlabels[i])\n",
    "        ax[i].set_title(list_of_titles[i])\n",
    "        ax[i].set_ylabel('Count')\n",
    "        ax[i].axvline(x=np.mean(dataframe[column]),color='red')\n",
    "\n",
    "        #ax.set_title('How fast do you want to go today?')\n",
    "        ax[i].figure.set_size_inches(10, 10)\n",
    "    plt.subplots_adjust(top=.8, bottom=0.08, left=0.10, right=0.95, hspace=0.25,\n",
    "                    wspace=0.35)\n",
    "subplot_histograms(train2,['Gr Liv Area','Lot Area','Lot Frontage','SalePrice'],\n",
    "                   ['Gr Liv Area','Lot Area','Lot Frontage','SalePrice'],\n",
    "                  ['Square Feet','Square Feet','Square Feet','Dollars'])"
   ]
  },
  {
   "cell_type": "markdown",
   "metadata": {},
   "source": [
    "Histograms: Lets look at the distributions of some of our variables, dependent and independent. We may want to make some log transformations on these variables to better deal with heavy outliers. Specifically we would want to transform SalePrice to adhere to the assumption that our continuous target is normally distributed. "
   ]
  },
  {
   "cell_type": "markdown",
   "metadata": {},
   "source": [
    "We also notice that a handful of entries for Lot Frontage have an entry of 0, which doesnt make sense (Lot doesnt exist..?) So we will handle this with imputation."
   ]
  },
  {
   "cell_type": "code",
   "execution_count": 23,
   "metadata": {},
   "outputs": [],
   "source": [
    "train1=train2"
   ]
  },
  {
   "cell_type": "code",
   "execution_count": 24,
   "metadata": {},
   "outputs": [],
   "source": [
    "test6=test2._get_numeric_data()\n",
    "train6=train2._get_numeric_data()"
   ]
  },
  {
   "cell_type": "markdown",
   "metadata": {},
   "source": [
    "## Log Transformation"
   ]
  },
  {
   "cell_type": "code",
   "execution_count": 25,
   "metadata": {},
   "outputs": [],
   "source": [
    "##SalePrice is not normally distributed so lets try the LogSalePrice as the predicted variable"
   ]
  },
  {
   "cell_type": "code",
   "execution_count": 26,
   "metadata": {},
   "outputs": [],
   "source": [
    "train2['SalePriceLog']=np.log(train2['SalePrice'])"
   ]
  },
  {
   "cell_type": "code",
   "execution_count": 27,
   "metadata": {},
   "outputs": [
    {
     "data": {
      "text/plain": [
       "<matplotlib.lines.Line2D at 0x7feabee58e10>"
      ]
     },
     "execution_count": 27,
     "metadata": {},
     "output_type": "execute_result"
    },
    {
     "data": {
      "image/png": "[encoded data removed]",
      "text/plain": [
       "<Figure size 432x288 with 1 Axes>"
      ]
     },
     "metadata": {
      "needs_background": "light"
     },
     "output_type": "display_data"
    }
   ],
   "source": [
    "plt.figure(figsize=(6,4))\n",
    "plt.title(\"log(Sale Price) ranges\")\n",
    "plt.xlabel(\"log(Sale Price)\")\n",
    "plt.ylabel(\"Frequency\")\n",
    "plt.hist(train2[\"SalePriceLog\"])\n",
    "plt.axvline(x=np.mean(train2['SalePriceLog']),color='red')"
   ]
  },
  {
   "cell_type": "markdown",
   "metadata": {},
   "source": [
    "Much better!"
   ]
  },
  {
   "cell_type": "markdown",
   "metadata": {},
   "source": [
    "## Regression Imputation of Lot Frontage"
   ]
  },
  {
   "cell_type": "markdown",
   "metadata": {},
   "source": [
    "Below we are going to set up a simpler regression model to impute the 0-valued Lot Frontage observations. Our problem is that this will consequently break one of our linear assumptions that our independent variables are not correlated with each other (multicollinearity). Creating a model to impute an independent variable based on other indep. variables will a portion of our data to be collinear. We can prevent this by adding random error. "
   ]
  },
  {
   "cell_type": "code",
   "execution_count": 28,
   "metadata": {},
   "outputs": [],
   "source": [
    "train4=train2[(train2['Lot Area'].notnull())&(train2['Neighborhood'].notnull())][['Lot Frontage','Lot Area','Neighborhood']]\n",
    "train4=pd.get_dummies(train4,columns=['Neighborhood'],drop_first=True)"
   ]
  },
  {
   "cell_type": "code",
   "execution_count": 29,
   "metadata": {},
   "outputs": [],
   "source": [
    "to_model=train4[(train4['Lot Frontage'].notnull())]"
   ]
  },
  {
   "cell_type": "code",
   "execution_count": 30,
   "metadata": {},
   "outputs": [],
   "source": [
    "to_predict=train4[(train4['Lot Frontage'].isnull())].drop('Lot Frontage',axis=1)"
   ]
  },
  {
   "cell_type": "code",
   "execution_count": 31,
   "metadata": {},
   "outputs": [],
   "source": [
    "to_model_X=to_model.drop('Lot Frontage',axis=1)"
   ]
  },
  {
   "cell_type": "code",
   "execution_count": 32,
   "metadata": {},
   "outputs": [],
   "source": [
    "to_model_Y=to_model['Lot Frontage']"
   ]
  },
  {
   "cell_type": "code",
   "execution_count": 33,
   "metadata": {},
   "outputs": [],
   "source": [
    "model = sm.OLS(to_model_Y,to_model_X)\n",
    "results = model.fit()"
   ]
  },
  {
   "cell_type": "code",
   "execution_count": 34,
   "metadata": {},
   "outputs": [],
   "source": [
    "x=results.predict(to_predict)"
   ]
  },
  {
   "cell_type": "code",
   "execution_count": 35,
   "metadata": {},
   "outputs": [
    {
     "name": "stderr",
     "output_type": "stream",
     "text": [
      "/opt/anaconda3/lib/python3.7/site-packages/ipykernel_launcher.py:3: FutureWarning: \n",
      ".ix is deprecated. Please use\n",
      ".loc for label based indexing or\n",
      ".iloc for positional indexing\n",
      "\n",
      "See the documentation here:\n",
      "http://pandas.pydata.org/pandas-docs/stable/user_guide/indexing.html#ix-indexer-is-deprecated\n",
      "  This is separate from the ipykernel package so we can avoid doing imports until\n"
     ]
    }
   ],
   "source": [
    "for i,j in zip(x.index,x):\n",
    "    \n",
    "    train2.ix[i,'Lot Frontage']= j"
   ]
  },
  {
   "cell_type": "code",
   "execution_count": 36,
   "metadata": {},
   "outputs": [
    {
     "data": {
      "text/plain": [
       "(array([130., 810., 957., 120.,  24.,   3.,   2.,   0.,   0.,   1.]),\n",
       " array([  6.1240776 ,  36.81166984,  67.49926208,  98.18685432,\n",
       "        128.87444656, 159.5620388 , 190.24963104, 220.93722328,\n",
       "        251.62481552, 282.31240776, 313.        ]),\n",
       " <a list of 10 Patch objects>)"
      ]
     },
     "execution_count": 36,
     "metadata": {},
     "output_type": "execute_result"
    },
    {
     "data": {
      "image/png": "[encoded data removed]",
      "text/plain": [
       "<Figure size 432x288 with 1 Axes>"
      ]
     },
     "metadata": {
      "needs_background": "light"
     },
     "output_type": "display_data"
    }
   ],
   "source": [
    "\n",
    "plt.hist(train2['Lot Frontage'])"
   ]
  },
  {
   "cell_type": "markdown",
   "metadata": {},
   "source": [
    "## Feature Engineering (Simple)"
   ]
  },
  {
   "cell_type": "code",
   "execution_count": 37,
   "metadata": {},
   "outputs": [],
   "source": [
    "#consolidate bathrooms into one feature, counting half baths as 0.5\n",
    "train2['FullHalfBath']=train2['Full Bath']+train2['Half Bath']*0.5"
   ]
  },
  {
   "cell_type": "code",
   "execution_count": 38,
   "metadata": {},
   "outputs": [],
   "source": [
    "test2['FullHalfBath']=test2['Full Bath']+test2['Half Bath']*0.5"
   ]
  },
  {
   "cell_type": "code",
   "execution_count": 39,
   "metadata": {},
   "outputs": [],
   "source": [
    "#create age sold from yr sold - year built\n",
    "train2['AgeSold']=train2['Yr Sold']-train2['Year Built']\n",
    "#create ordinal variable of yr sold - minimum yr sold. \n",
    "train2['YrSldOrd']=train2['Yr Sold']-train2['Yr Sold'].min()\n",
    "#Years remodeled before the house was built.\n",
    "train2['YrsRemodeledBefore']=train2['Yr Sold']-train2['Year Remod/Add']\n",
    "#Years remodeled AFTER the house was built\n",
    "train2['YrsRemodeledAfter']=train2['Year Remod/Add']-train2['Year Built']"
   ]
  },
  {
   "cell_type": "code",
   "execution_count": 40,
   "metadata": {},
   "outputs": [],
   "source": [
    "test2['AgeSold']=test2['Yr Sold']-test2['Year Built']\n",
    "test2['YrSldOrd']=test2['Yr Sold']-test2['Yr Sold'].min()\n",
    "test2['YrsRemodeledBefore']=test2['Yr Sold']-test2['Year Remod/Add']\n",
    "test2['YrsRemodeledAfter']=test2['Year Remod/Add']-test2['Year Built']"
   ]
  },
  {
   "cell_type": "code",
   "execution_count": 41,
   "metadata": {},
   "outputs": [],
   "source": [
    "#Fireplace * fireplace quality interaction term\n",
    "# train2['FireplaceQual']=train2['Fireplaces']*train2['Fireplace Qu']\n",
    "# test2['FireplaceQual']=test2['Fireplaces']*test2['Fireplace Qu']"
   ]
  },
  {
   "cell_type": "markdown",
   "metadata": {},
   "source": [
    "## Filling Nulls"
   ]
  },
  {
   "cell_type": "code",
   "execution_count": 42,
   "metadata": {},
   "outputs": [],
   "source": [
    "#If there is a garage, but no Garage Yr Blt, fill with the year the house was built. \n",
    "train2['Garage Yr Blt']=train2['Garage Yr Blt'] .fillna(value=train2['Year Built']) \n",
    "train2[['Mas Vnr Type','Garage Type']]=train2[['Mas Vnr Type','Garage Type']].fillna(value='None')\n",
    "train2['Mas Vnr Area']=train2['Mas Vnr Area'].fillna(value=0)\n",
    "train2[['Alley','Pool QC','Misc Feature','Fence','Garage Cond','Garage Qual','Fireplace Qu','Garage Finish']]=train2[['Alley','Pool QC','Misc Feature','Fence','Garage Cond','Garage Qual','Fireplace Qu','Garage Finish']].fillna(value='NA')\n",
    "train2[['Total Bsmt SF','Bsmt Unf SF','BsmtFin SF 2','Garage Area','Garage Cars','Bsmt Full Bath','BsmtFin SF 1',\n",
    "       'BsmtFin Type 1','BsmtFin Type 2','Lot Frontage','Bsmt Half Bath']]=train2[['Total Bsmt SF','Bsmt Unf SF',\n",
    "        'BsmtFin SF 2','Garage Area','Garage Cars','Bsmt Full Bath','BsmtFin SF 1','BsmtFin Type 1',\n",
    "        'BsmtFin Type 2','Lot Frontage','Bsmt Half Bath']].fillna(value=0)\n",
    "train2[['Bsmt Qual','Bsmt Cond','Bsmt Exposure']]=train2[['Bsmt Qual','Bsmt Cond','Bsmt Exposure']].fillna(value='NA')\n",
    "##Filling Null Values Appropriately"
   ]
  },
  {
   "cell_type": "code",
   "execution_count": 43,
   "metadata": {},
   "outputs": [],
   "source": [
    "#If there is a garage, but no Garage Yr Blt, fill with the year the house was built. \n",
    "test2['Garage Yr Blt']=test2['Garage Yr Blt'] .fillna(value=test2['Year Built']) \n",
    "test2[['Mas Vnr Type','Garage Type']]=test2[['Mas Vnr Type','Garage Type']].fillna(value='None')\n",
    "test2['Mas Vnr Area']=test2['Mas Vnr Area'].fillna(value=0)\n",
    "\n",
    "test2[['Alley','Pool QC','Misc Feature','Fence','Garage Cond','Garage Qual','Fireplace Qu',\n",
    "       'Garage Finish']]=test2[['Alley','Pool QC','Misc Feature','Fence','Garage Cond',\n",
    "                                'Garage Qual','Fireplace Qu','Garage Finish']].fillna(value='NA')\n",
    "\n",
    "test2[['Total Bsmt SF','Bsmt Unf SF','BsmtFin SF 2','Garage Area','Garage Cars','Bsmt Full Bath','BsmtFin SF 1',\n",
    "       'BsmtFin Type 1','BsmtFin Type 2','Lot Frontage','Bsmt Half Bath']]=test2[['Total Bsmt SF','Bsmt Unf SF',\n",
    "        'BsmtFin SF 2','Garage Area','Garage Cars','Bsmt Full Bath','BsmtFin SF 1','BsmtFin Type 1',\n",
    "        'BsmtFin Type 2','Lot Frontage','Bsmt Half Bath']].fillna(value=0)\n",
    "\n",
    "test2[['Bsmt Qual','Bsmt Cond','Bsmt Exposure']]=test2[['Bsmt Qual','Bsmt Cond','Bsmt Exposure']].fillna(value='NA')"
   ]
  },
  {
   "cell_type": "code",
   "execution_count": 44,
   "metadata": {},
   "outputs": [
    {
     "data": {
      "text/plain": [
       "(2047, 87)"
      ]
     },
     "execution_count": 44,
     "metadata": {},
     "output_type": "execute_result"
    }
   ],
   "source": [
    "train2.shape"
   ]
  },
  {
   "cell_type": "code",
   "execution_count": 45,
   "metadata": {},
   "outputs": [
    {
     "data": {
      "text/plain": [
       "(878, 85)"
      ]
     },
     "execution_count": 45,
     "metadata": {},
     "output_type": "execute_result"
    }
   ],
   "source": [
    "test2.shape"
   ]
  },
  {
   "cell_type": "markdown",
   "metadata": {},
   "source": [
    "## Dummies"
   ]
  },
  {
   "cell_type": "code",
   "execution_count": 46,
   "metadata": {},
   "outputs": [
    {
     "name": "stderr",
     "output_type": "stream",
     "text": [
      "/opt/anaconda3/lib/python3.7/site-packages/ipykernel_launcher.py:10: FutureWarning: Sorting because non-concatenation axis is not aligned. A future version\n",
      "of pandas will change to not sort by default.\n",
      "\n",
      "To accept the future behavior, pass 'sort=False'.\n",
      "\n",
      "To retain the current behavior and silence the warning, pass 'sort=True'.\n",
      "\n",
      "  # Remove the CWD from sys.path while we load stuff.\n"
     ]
    }
   ],
   "source": [
    "dummies=['MS SubClass','Neighborhood','MS Zoning','Condition 1',\n",
    "         'Exterior 1st','Foundation','Paved Drive','Condition 2','Bldg Type','Roof Style','Roof Matl',\n",
    "         'Exterior 2nd','Central Air','Electrical','Sale Type','Fence','Misc Feature',\n",
    "'Heating','Yr Sold','Lot Shape'\n",
    "        ]\n",
    "##Creating dummies of features we cannot quantify\n",
    "test5=test2\n",
    "train5=train2\n",
    "train5=train5.drop(['SalePrice'],axis=1)\n",
    "traintest=pd.concat((train5,test5))\n",
    "##we are going to kind of branch off here to do the full dummy retrieval. \n",
    "## we will concatonate the test and train data vertically, get dummies of the full set, and split on the correct index"
   ]
  },
  {
   "cell_type": "code",
   "execution_count": 47,
   "metadata": {
    "scrolled": false
   },
   "outputs": [
    {
     "name": "stdout",
     "output_type": "stream",
     "text": [
      "(2047, 86)\n",
      "(878, 85)\n",
      "(2925, 86)\n"
     ]
    }
   ],
   "source": [
    "print(train5.shape)\n",
    "print(test5.shape)\n",
    "print(traintest.shape)##will have many print statements to confirm size"
   ]
  },
  {
   "cell_type": "code",
   "execution_count": 48,
   "metadata": {},
   "outputs": [],
   "source": [
    "traintest=pd.get_dummies(traintest,columns=dummies,drop_first=True)##getting full dummies"
   ]
  },
  {
   "cell_type": "code",
   "execution_count": 49,
   "metadata": {},
   "outputs": [
    {
     "data": {
      "text/plain": [
       "(2925, 216)"
      ]
     },
     "execution_count": 49,
     "metadata": {},
     "output_type": "execute_result"
    }
   ],
   "source": [
    "traintest.shape"
   ]
  },
  {
   "cell_type": "code",
   "execution_count": 50,
   "metadata": {},
   "outputs": [],
   "source": [
    "test2=traintest.iloc[2047:,:]##splitting vetically at 2047"
   ]
  },
  {
   "cell_type": "code",
   "execution_count": 51,
   "metadata": {},
   "outputs": [],
   "source": [
    "train2=traintest.iloc[:2047,:]"
   ]
  },
  {
   "cell_type": "code",
   "execution_count": 52,
   "metadata": {},
   "outputs": [],
   "source": [
    "#test2=pd.concat((test2,testdummies),axis=1)"
   ]
  },
  {
   "cell_type": "code",
   "execution_count": 53,
   "metadata": {},
   "outputs": [],
   "source": [
    "#train2=pd.concat((train2,traindummies),axis=1)"
   ]
  },
  {
   "cell_type": "code",
   "execution_count": 54,
   "metadata": {},
   "outputs": [
    {
     "name": "stdout",
     "output_type": "stream",
     "text": [
      "(2047, 216)\n",
      "(878, 216)\n"
     ]
    }
   ],
   "source": [
    "print(train2.shape)##lets see if were good\n",
    "print(test2.shape)"
   ]
  },
  {
   "cell_type": "code",
   "execution_count": 55,
   "metadata": {},
   "outputs": [],
   "source": [
    "train2=pd.concat((train2,train1['SalePrice']),axis=1)##lets get sale price back in there"
   ]
  },
  {
   "cell_type": "code",
   "execution_count": 56,
   "metadata": {},
   "outputs": [
    {
     "data": {
      "text/plain": [
       "(2047, 217)"
      ]
     },
     "execution_count": 56,
     "metadata": {},
     "output_type": "execute_result"
    }
   ],
   "source": [
    "train2.shape"
   ]
  },
  {
   "cell_type": "markdown",
   "metadata": {},
   "source": [
    "## Ordinal Mapping"
   ]
  },
  {
   "cell_type": "code",
   "execution_count": 57,
   "metadata": {},
   "outputs": [],
   "source": [
    "##We are going to attempt to quantify ordinal features to numbers where we think it is possible to rank . \n",
    "title_mapping2={'Bnk':1,'Low':2,'HLS':3,'Lvl':4}\n",
    "train2['LandContourOrd'] = train2['Land Contour'].map(title_mapping2)\n",
    "title_mapping3={'Sev':1,'Mod':2,'Gtl':3}\n",
    "train2['LandSlopeOrd'] = train2['Land Slope'].map(title_mapping3)\n",
    "title_mapping4={'1.5Unf':1,'SFoyer':2,'1.5Fin':3,'SLvl':4,'1Story':5,'2.5Unf':6,'2Story':7,'2.5Fin':8}\n",
    "train2['HouseStyleOrd'] = train2['House Style'].map(title_mapping4)\n",
    "title_mapping5={'NA':0,'Po':1,'Fa':2,'TA':3,'Gd':4,'Ex':5}\n",
    "train2['BaseQualOrd'] = train2['Bsmt Qual'].map(title_mapping5)\n",
    "train2['BaseCondOrd'] = train2['Bsmt Cond'].map(title_mapping5)\n",
    "train2['Fireplace Qu'] = train2['Fireplace Qu'].map(title_mapping5)\n",
    "title_mapping6={'NA':0,'No':1,'Mn':2,'Av':3,'Gd':4}\n",
    "train2['BsmtExpOrd'] = train2['Bsmt Exposure'].map(title_mapping6)\n",
    "title_mapping6={0:0,'NA':0,'Unf':1,'LwQ':2,'Rec':3,'BLQ':4,'ALQ':5,'GLQ':6}\n",
    "train2['BsmtFinOrd1'] = train2['BsmtFin Type 1'].map(title_mapping6)\n",
    "train2['BsmtFinOrd2'] = train2['BsmtFin Type 2'].map(title_mapping6)\n",
    "title_mapping7={'Po':1,'Fa':2,'TA':3,'Gd':4,'Ex':5}\n",
    "train2['HeatQcOrd']=train2['Heating QC'].map(title_mapping7)\n",
    "train2['KitchenQualOrd']=train2['Kitchen Qual'].map(title_mapping7)\n",
    "title_mapping8={'Sal':0,'Sev':1,'Maj2':2,'Maj1':3,'Mod':4,'Min2':5,'Min1':6,'Typ':7}\n",
    "train2['FunctionalOrd']=train2['Functional'].map(title_mapping8)\n",
    "title_mapping9={'NA':0,'Unf':1,'RFn':2,'Fin':3}\n",
    "train2['GrgFinishedOrd']=train2['Garage Finish'].map(title_mapping9)\n",
    "train2['GarageQualOrd']=train2['Garage Qual'].map(title_mapping5)\n",
    "train2['GarageCondOrd']=train2['Garage Cond'].map(title_mapping5)"
   ]
  },
  {
   "cell_type": "code",
   "execution_count": 58,
   "metadata": {},
   "outputs": [
    {
     "name": "stdout",
     "output_type": "stream",
     "text": [
      "(2047, 231)\n",
      "(878, 216)\n"
     ]
    }
   ],
   "source": [
    "print(train2.shape)\n",
    "print(test2.shape)"
   ]
  },
  {
   "cell_type": "code",
   "execution_count": 59,
   "metadata": {
    "scrolled": false
   },
   "outputs": [
    {
     "name": "stderr",
     "output_type": "stream",
     "text": [
      "/opt/anaconda3/lib/python3.7/site-packages/ipykernel_launcher.py:2: SettingWithCopyWarning: \n",
      "A value is trying to be set on a copy of a slice from a DataFrame.\n",
      "Try using .loc[row_indexer,col_indexer] = value instead\n",
      "\n",
      "See the caveats in the documentation: http://pandas.pydata.org/pandas-docs/stable/user_guide/indexing.html#returning-a-view-versus-a-copy\n",
      "  \n",
      "/opt/anaconda3/lib/python3.7/site-packages/ipykernel_launcher.py:4: SettingWithCopyWarning: \n",
      "A value is trying to be set on a copy of a slice from a DataFrame.\n",
      "Try using .loc[row_indexer,col_indexer] = value instead\n",
      "\n",
      "See the caveats in the documentation: http://pandas.pydata.org/pandas-docs/stable/user_guide/indexing.html#returning-a-view-versus-a-copy\n",
      "  after removing the cwd from sys.path.\n",
      "/opt/anaconda3/lib/python3.7/site-packages/ipykernel_launcher.py:6: SettingWithCopyWarning: \n",
      "A value is trying to be set on a copy of a slice from a DataFrame.\n",
      "Try using .loc[row_indexer,col_indexer] = value instead\n",
      "\n",
      "See the caveats in the documentation: http://pandas.pydata.org/pandas-docs/stable/user_guide/indexing.html#returning-a-view-versus-a-copy\n",
      "  \n",
      "/opt/anaconda3/lib/python3.7/site-packages/ipykernel_launcher.py:8: SettingWithCopyWarning: \n",
      "A value is trying to be set on a copy of a slice from a DataFrame.\n",
      "Try using .loc[row_indexer,col_indexer] = value instead\n",
      "\n",
      "See the caveats in the documentation: http://pandas.pydata.org/pandas-docs/stable/user_guide/indexing.html#returning-a-view-versus-a-copy\n",
      "  \n",
      "/opt/anaconda3/lib/python3.7/site-packages/ipykernel_launcher.py:9: SettingWithCopyWarning: \n",
      "A value is trying to be set on a copy of a slice from a DataFrame.\n",
      "Try using .loc[row_indexer,col_indexer] = value instead\n",
      "\n",
      "See the caveats in the documentation: http://pandas.pydata.org/pandas-docs/stable/user_guide/indexing.html#returning-a-view-versus-a-copy\n",
      "  if __name__ == '__main__':\n",
      "/opt/anaconda3/lib/python3.7/site-packages/ipykernel_launcher.py:10: SettingWithCopyWarning: \n",
      "A value is trying to be set on a copy of a slice from a DataFrame.\n",
      "Try using .loc[row_indexer,col_indexer] = value instead\n",
      "\n",
      "See the caveats in the documentation: http://pandas.pydata.org/pandas-docs/stable/user_guide/indexing.html#returning-a-view-versus-a-copy\n",
      "  # Remove the CWD from sys.path while we load stuff.\n",
      "/opt/anaconda3/lib/python3.7/site-packages/ipykernel_launcher.py:12: SettingWithCopyWarning: \n",
      "A value is trying to be set on a copy of a slice from a DataFrame.\n",
      "Try using .loc[row_indexer,col_indexer] = value instead\n",
      "\n",
      "See the caveats in the documentation: http://pandas.pydata.org/pandas-docs/stable/user_guide/indexing.html#returning-a-view-versus-a-copy\n",
      "  if sys.path[0] == '':\n",
      "/opt/anaconda3/lib/python3.7/site-packages/ipykernel_launcher.py:14: SettingWithCopyWarning: \n",
      "A value is trying to be set on a copy of a slice from a DataFrame.\n",
      "Try using .loc[row_indexer,col_indexer] = value instead\n",
      "\n",
      "See the caveats in the documentation: http://pandas.pydata.org/pandas-docs/stable/user_guide/indexing.html#returning-a-view-versus-a-copy\n",
      "  \n",
      "/opt/anaconda3/lib/python3.7/site-packages/ipykernel_launcher.py:15: SettingWithCopyWarning: \n",
      "A value is trying to be set on a copy of a slice from a DataFrame.\n",
      "Try using .loc[row_indexer,col_indexer] = value instead\n",
      "\n",
      "See the caveats in the documentation: http://pandas.pydata.org/pandas-docs/stable/user_guide/indexing.html#returning-a-view-versus-a-copy\n",
      "  from ipykernel import kernelapp as app\n",
      "/opt/anaconda3/lib/python3.7/site-packages/ipykernel_launcher.py:17: SettingWithCopyWarning: \n",
      "A value is trying to be set on a copy of a slice from a DataFrame.\n",
      "Try using .loc[row_indexer,col_indexer] = value instead\n",
      "\n",
      "See the caveats in the documentation: http://pandas.pydata.org/pandas-docs/stable/user_guide/indexing.html#returning-a-view-versus-a-copy\n",
      "/opt/anaconda3/lib/python3.7/site-packages/ipykernel_launcher.py:18: SettingWithCopyWarning: \n",
      "A value is trying to be set on a copy of a slice from a DataFrame.\n",
      "Try using .loc[row_indexer,col_indexer] = value instead\n",
      "\n",
      "See the caveats in the documentation: http://pandas.pydata.org/pandas-docs/stable/user_guide/indexing.html#returning-a-view-versus-a-copy\n",
      "/opt/anaconda3/lib/python3.7/site-packages/ipykernel_launcher.py:20: SettingWithCopyWarning: \n",
      "A value is trying to be set on a copy of a slice from a DataFrame.\n",
      "Try using .loc[row_indexer,col_indexer] = value instead\n",
      "\n",
      "See the caveats in the documentation: http://pandas.pydata.org/pandas-docs/stable/user_guide/indexing.html#returning-a-view-versus-a-copy\n",
      "/opt/anaconda3/lib/python3.7/site-packages/ipykernel_launcher.py:22: SettingWithCopyWarning: \n",
      "A value is trying to be set on a copy of a slice from a DataFrame.\n",
      "Try using .loc[row_indexer,col_indexer] = value instead\n",
      "\n",
      "See the caveats in the documentation: http://pandas.pydata.org/pandas-docs/stable/user_guide/indexing.html#returning-a-view-versus-a-copy\n",
      "/opt/anaconda3/lib/python3.7/site-packages/ipykernel_launcher.py:23: SettingWithCopyWarning: \n",
      "A value is trying to be set on a copy of a slice from a DataFrame.\n",
      "Try using .loc[row_indexer,col_indexer] = value instead\n",
      "\n",
      "See the caveats in the documentation: http://pandas.pydata.org/pandas-docs/stable/user_guide/indexing.html#returning-a-view-versus-a-copy\n",
      "/opt/anaconda3/lib/python3.7/site-packages/ipykernel_launcher.py:24: SettingWithCopyWarning: \n",
      "A value is trying to be set on a copy of a slice from a DataFrame.\n",
      "Try using .loc[row_indexer,col_indexer] = value instead\n",
      "\n",
      "See the caveats in the documentation: http://pandas.pydata.org/pandas-docs/stable/user_guide/indexing.html#returning-a-view-versus-a-copy\n"
     ]
    }
   ],
   "source": [
    "title_mapping2={'Bnk':1,'Low':2,'HLS':3,'Lvl':4}\n",
    "test2['LandContourOrd'] = test2['Land Contour'].map(title_mapping2)\n",
    "title_mapping3={'Sev':1,'Mod':2,'Gtl':3}\n",
    "test2['LandSlopeOrd'] = test2['Land Slope'].map(title_mapping3)\n",
    "title_mapping4={'1.5Unf':1,'SFoyer':2,'1.5Fin':3,'SLvl':4,'1Story':5,'2.5Unf':6,'2Story':7,'2.5Fin':8}\n",
    "test2['HouseStyleOrd'] = test2['House Style'].map(title_mapping4)\n",
    "title_mapping5={'NA':0,'Po':1,'Fa':2,'TA':3,'Gd':4,'Ex':5}\n",
    "test2['BaseQualOrd'] = test2['Bsmt Qual'].map(title_mapping5)\n",
    "test2['BaseCondOrd'] = test2['Bsmt Cond'].map(title_mapping5)\n",
    "test2['Fireplace Qu'] = test2['Fireplace Qu'].map(title_mapping5)\n",
    "title_mapping6={'NA':0,'No':1,'Mn':2,'Av':3,'Gd':4}\n",
    "test2['BsmtExpOrd'] = test2['Bsmt Exposure'].map(title_mapping6)\n",
    "title_mapping6={0:0,'NA':0,'Unf':1,'LwQ':2,'Rec':3,'BLQ':4,'ALQ':5,'GLQ':6}\n",
    "test2['BsmtFinOrd1'] = test2['BsmtFin Type 1'].map(title_mapping6)\n",
    "test2['BsmtFinOrd2'] = test2['BsmtFin Type 2'].map(title_mapping6)\n",
    "title_mapping7={'Po':1,'Fa':2,'TA':3,'Gd':4,'Ex':5}\n",
    "test2['HeatQcOrd']=test2['Heating QC'].map(title_mapping7)\n",
    "test2['KitchenQualOrd']=test2['Kitchen Qual'].map(title_mapping7)\n",
    "title_mapping8={'Sal':0,'Sev':1,'Maj2':2,'Maj1':3,'Mod':4,'Min2':5,'Min1':6,'Typ':7}\n",
    "test2['FunctionalOrd']=test2['Functional'].map(title_mapping8)\n",
    "title_mapping9={'NA':0,'Unf':1,'RFn':2,'Fin':3}\n",
    "test2['GrgFinishedOrd']=test2['Garage Finish'].map(title_mapping9)\n",
    "test2['GarageQualOrd']=test2['Garage Qual'].map(title_mapping5)\n",
    "test2['GarageCondOrd']=test2['Garage Cond'].map(title_mapping5)\n",
    "\n"
   ]
  },
  {
   "cell_type": "code",
   "execution_count": 60,
   "metadata": {
    "scrolled": true
   },
   "outputs": [
    {
     "name": "stdout",
     "output_type": "stream",
     "text": [
      "(2047, 231)\n",
      "(878, 230)\n"
     ]
    }
   ],
   "source": [
    "print(train2.shape)\n",
    "print(test2.shape)"
   ]
  },
  {
   "cell_type": "code",
   "execution_count": 61,
   "metadata": {},
   "outputs": [],
   "source": [
    "test3=test2._get_numeric_data()##dropping any non numeric options so we can run regression\n",
    "train3=train2._get_numeric_data()"
   ]
  },
  {
   "cell_type": "code",
   "execution_count": 62,
   "metadata": {
    "scrolled": true
   },
   "outputs": [],
   "source": [
    "train3['LotFrontageLog']=ma.filled(np.log(ma.masked_equal(train3['Lot Frontage'], 0)), 0)## "
   ]
  },
  {
   "cell_type": "code",
   "execution_count": 63,
   "metadata": {
    "scrolled": true
   },
   "outputs": [
    {
     "name": "stderr",
     "output_type": "stream",
     "text": [
      "/opt/anaconda3/lib/python3.7/site-packages/ipykernel_launcher.py:1: RuntimeWarning: divide by zero encountered in log\n",
      "  \"\"\"Entry point for launching an IPython kernel.\n"
     ]
    }
   ],
   "source": [
    "test3['LotFrontageLog']=ma.filled(np.log(ma.masked_equal(test3['Lot Frontage'], 0)), 0)"
   ]
  },
  {
   "cell_type": "code",
   "execution_count": 64,
   "metadata": {},
   "outputs": [],
   "source": [
    "train3['LotArealog']=ma.filled(np.log(ma.masked_equal(train3['Lot Area'], 0)), 0)"
   ]
  },
  {
   "cell_type": "code",
   "execution_count": 65,
   "metadata": {},
   "outputs": [],
   "source": [
    "test3['LotArealog']=ma.filled(np.log(ma.masked_equal(test3['Lot Area'], 0)), 0)"
   ]
  },
  {
   "cell_type": "code",
   "execution_count": 66,
   "metadata": {},
   "outputs": [],
   "source": [
    "train3['GrLivLog']=ma.filled(np.log(ma.masked_equal(train3['Gr Liv Area'], 0)), 0)"
   ]
  },
  {
   "cell_type": "code",
   "execution_count": 67,
   "metadata": {},
   "outputs": [],
   "source": [
    "test3['GrLivLog']=ma.filled(np.log(ma.masked_equal(test3['Gr Liv Area'], 0)), 0)"
   ]
  },
  {
   "cell_type": "code",
   "execution_count": 68,
   "metadata": {},
   "outputs": [
    {
     "name": "stderr",
     "output_type": "stream",
     "text": [
      "/opt/anaconda3/lib/python3.7/site-packages/pandas/core/indexing.py:376: SettingWithCopyWarning: \n",
      "A value is trying to be set on a copy of a slice from a DataFrame.\n",
      "Try using .loc[row_indexer,col_indexer] = value instead\n",
      "\n",
      "See the caveats in the documentation: http://pandas.pydata.org/pandas-docs/stable/user_guide/indexing.html#returning-a-view-versus-a-copy\n",
      "  self.obj[key] = _infer_fill_value(value)\n",
      "/opt/anaconda3/lib/python3.7/site-packages/pandas/core/indexing.py:494: SettingWithCopyWarning: \n",
      "A value is trying to be set on a copy of a slice from a DataFrame.\n",
      "Try using .loc[row_indexer,col_indexer] = value instead\n",
      "\n",
      "See the caveats in the documentation: http://pandas.pydata.org/pandas-docs/stable/user_guide/indexing.html#returning-a-view-versus-a-copy\n",
      "  self.obj[item] = s\n"
     ]
    }
   ],
   "source": [
    "test2.loc[634,'Electrical']='SBrkr'##Lets set this one missing Electrical value to the most common type, standard. "
   ]
  },
  {
   "cell_type": "markdown",
   "metadata": {},
   "source": [
    "## Modeling"
   ]
  },
  {
   "cell_type": "markdown",
   "metadata": {},
   "source": [
    "### Baseline model"
   ]
  },
  {
   "cell_type": "code",
   "execution_count": 69,
   "metadata": {},
   "outputs": [],
   "source": [
    "X5=train3.drop(['SalePrice','SalePriceLog'],axis=1)"
   ]
  },
  {
   "cell_type": "code",
   "execution_count": 70,
   "metadata": {},
   "outputs": [],
   "source": [
    "y5=train3['SalePrice']"
   ]
  },
  {
   "cell_type": "code",
   "execution_count": 71,
   "metadata": {},
   "outputs": [],
   "source": [
    "X7=train3[['Gr Liv Area','Overall Qual','Total Bsmt SF']]"
   ]
  },
  {
   "cell_type": "code",
   "execution_count": 72,
   "metadata": {},
   "outputs": [],
   "source": [
    "y7=train3['SalePrice']"
   ]
  },
  {
   "cell_type": "code",
   "execution_count": 73,
   "metadata": {},
   "outputs": [],
   "source": [
    "X_train, X_test, y_train, y_test = train_test_split(\n",
    "    X7,\n",
    "    y7,\n",
    " # want a small training data to help cause overfitting\n",
    "    random_state = 155\n",
    ")"
   ]
  },
  {
   "cell_type": "code",
   "execution_count": 74,
   "metadata": {},
   "outputs": [],
   "source": [
    "lr=LinearRegression()"
   ]
  },
  {
   "cell_type": "code",
   "execution_count": 75,
   "metadata": {},
   "outputs": [],
   "source": [
    "model1=lr.fit(X_train,y_train)"
   ]
  },
  {
   "cell_type": "code",
   "execution_count": 76,
   "metadata": {
    "scrolled": true
   },
   "outputs": [
    {
     "data": {
      "text/plain": [
       "array([   53.35576379, 25771.01275142,    52.89653692])"
      ]
     },
     "execution_count": 76,
     "metadata": {},
     "output_type": "execute_result"
    }
   ],
   "source": [
    "model1.coef_"
   ]
  },
  {
   "cell_type": "code",
   "execution_count": 77,
   "metadata": {
    "scrolled": true
   },
   "outputs": [
    {
     "data": {
      "text/plain": [
       "-111768.91665160735"
      ]
     },
     "execution_count": 77,
     "metadata": {},
     "output_type": "execute_result"
    }
   ],
   "source": [
    "model1.intercept_"
   ]
  },
  {
   "cell_type": "markdown",
   "metadata": {},
   "source": [
    "$$ \\hat{\\text{SalePrice}} = -111,768.92 + 25,771.01(\\text{OverallQual}) + 53.36(\\text{GrLivArea}) + 52.9(\\text{TotalBasementSF})$$"
   ]
  },
  {
   "cell_type": "code",
   "execution_count": 78,
   "metadata": {},
   "outputs": [],
   "source": [
    "preds1=model1.predict(X_train)\n",
    "preds2=model1.predict(X_test)\n",
    "\n"
   ]
  },
  {
   "cell_type": "code",
   "execution_count": 79,
   "metadata": {
    "scrolled": true
   },
   "outputs": [
    {
     "data": {
      "image/png": "[encoded data removed]",
      "text/plain": [
       "<Figure size 432x288 with 1 Axes>"
      ]
     },
     "metadata": {
      "needs_background": "light"
     },
     "output_type": "display_data"
    }
   ],
   "source": [
    "## CREDIT GOES TO ANTHONY LUCCI FOR THIS NICE FUNCTIOn\n",
    "def plot_predictions(model_name, y_train_pred, y_test_pred, y_train_actual, y_test_actual):\n",
    "    plt.scatter(y_train_pred, y_train_actual, c = \"blue\", marker = \"s\", label = \"Training data\")\n",
    "    plt.scatter(y_test_pred, y_test_actual, c = \"lightgreen\", marker = \"s\", label = \"Testing data\")\n",
    "    plt.title(model_name+\"Regression\")\n",
    "    plt.xlabel(\"$\\hat{y}$ = Predicted SalePrice\")\n",
    "    plt.ylabel(\"$y$ = Actual SalePrice\")\n",
    "    plt.legend(loc = \"upper left\")\n",
    "    plt.plot([y_train.min(), y_train.max()], [y_train.min(), y_train.max()], c='red')\n",
    "    plt.tight_layout()\n",
    "plot_predictions('OLS',preds1,preds2,y_train,y_test)\n"
   ]
  },
  {
   "cell_type": "code",
   "execution_count": 80,
   "metadata": {},
   "outputs": [],
   "source": [
    "#error1=preds2-y_test"
   ]
  },
  {
   "cell_type": "markdown",
   "metadata": {},
   "source": [
    "$$\\text{RMSE}=\\sqrt{\\text{MSE}}=\\sqrt{\\sum_{i=1}^{n}{(\\hat{y}_i-y_i)}^2}=34,593.29\\$$$"
   ]
  },
  {
   "cell_type": "code",
   "execution_count": 81,
   "metadata": {},
   "outputs": [
    {
     "data": {
      "text/plain": [
       "34593.29338255366"
      ]
     },
     "execution_count": 81,
     "metadata": {},
     "output_type": "execute_result"
    }
   ],
   "source": [
    "(metrics.mean_squared_error(y_test, preds2))**0.5"
   ]
  },
  {
   "cell_type": "code",
   "execution_count": 82,
   "metadata": {},
   "outputs": [
    {
     "data": {
      "text/plain": [
       "0.7920195584848121"
      ]
     },
     "execution_count": 82,
     "metadata": {},
     "output_type": "execute_result"
    }
   ],
   "source": [
    "model1.score(X_train,y_train)"
   ]
  },
  {
   "cell_type": "markdown",
   "metadata": {},
   "source": [
    "We have a RMSE of 34,593.29$ which essentially means our predictions were off by an average of \\\\$34.6k. "
   ]
  },
  {
   "cell_type": "code",
   "execution_count": 83,
   "metadata": {},
   "outputs": [],
   "source": [
    "X1=train3.drop(['SalePrice','SalePriceLog'],axis=1)#+X_scaled"
   ]
  },
  {
   "cell_type": "code",
   "execution_count": 84,
   "metadata": {},
   "outputs": [],
   "source": [
    "y1=train2['SalePriceLog']"
   ]
  },
  {
   "cell_type": "markdown",
   "metadata": {},
   "source": [
    "### Ridge Model"
   ]
  },
  {
   "cell_type": "code",
   "execution_count": 85,
   "metadata": {},
   "outputs": [],
   "source": [
    "start = 2##Lets start from 10^-3 to 1 with 1000 intervals \n",
    "end   = 4\n",
    "steps = 1000\n",
    "l_alphas = np.logspace(start, end, steps)"
   ]
  },
  {
   "cell_type": "code",
   "execution_count": 86,
   "metadata": {},
   "outputs": [],
   "source": [
    "X_train, X_test, y_train, y_test = train_test_split(##lets initiate our train test splite\n",
    "    X1,\n",
    "    y1,\n",
    " # want a small training data to help cause overfitting\n",
    "    random_state = 155\n",
    ")"
   ]
  },
  {
   "cell_type": "code",
   "execution_count": 104,
   "metadata": {},
   "outputs": [],
   "source": [
    "test3.drop('SalePriceLog',inplace=True,axis=1)"
   ]
  },
  {
   "cell_type": "code",
   "execution_count": 106,
   "metadata": {},
   "outputs": [],
   "source": [
    "sc = StandardScaler()##WE are using a regularization model so we must scale our data with standard scaler. \n",
    "scaled_X_train = sc.fit_transform(X_train)\n",
    "scaled_X_test = sc.transform(X_test)\n",
    "test3 = sc.transform(test3)"
   ]
  },
  {
   "cell_type": "code",
   "execution_count": 107,
   "metadata": {},
   "outputs": [],
   "source": [
    "scaled_X_train=pd.DataFrame(scaled_X_train)"
   ]
  },
  {
   "cell_type": "code",
   "execution_count": 108,
   "metadata": {},
   "outputs": [],
   "source": [
    "test3=pd.DataFrame(test3)"
   ]
  },
  {
   "cell_type": "code",
   "execution_count": 109,
   "metadata": {
    "scrolled": true
   },
   "outputs": [
    {
     "data": {
      "text/plain": [
       "RidgeCV(alphas=array([  100.        ,   100.46204213,   100.9262191 ,   101.39254076,\n",
       "         101.86101702,   102.33165783,   102.80447321,   103.27947319,\n",
       "         103.75666787,   104.2360674 ,   104.71768195,   105.20152176,\n",
       "         105.68759712,   106.17591835,   106.66649583,   107.15933998,\n",
       "         107.65446128,   108.15187026,   108.65157747,   109.15359353,\n",
       "         109.65792913,   110.16459496,   110.67360181,   111.18496048,\n",
       "         111.69868185,   112.21477682,...\n",
       "        9161.40245714,  9203.73199662,  9246.25711641,  9288.97872016,\n",
       "        9331.89771573,  9375.01501515,  9418.33153465,  9461.84819472,\n",
       "        9505.5659201 ,  9549.48563979,  9593.60828709,  9637.93479962,\n",
       "        9682.4661193 ,  9727.20319245,  9772.14696973,  9817.29840619,\n",
       "        9862.65846131,  9908.228099  ,  9954.00828762, 10000.        ]),\n",
       "        cv=5, fit_intercept=True, gcv_mode=None, normalize=False, scoring=None,\n",
       "        store_cv_values=False)"
      ]
     },
     "execution_count": 109,
     "metadata": {},
     "output_type": "execute_result"
    }
   ],
   "source": [
    "# Cross-validate over our list of Ridge alphas.\n",
    "ridge_model = RidgeCV(alphas = l_alphas, cv = 5)\n",
    "\n",
    "# Fit model using best alpha found!\n",
    "ridge_model.fit(scaled_X_train, y_train)"
   ]
  },
  {
   "cell_type": "code",
   "execution_count": 110,
   "metadata": {},
   "outputs": [
    {
     "data": {
      "text/plain": [
       "0.9076678857094838"
      ]
     },
     "execution_count": 110,
     "metadata": {},
     "output_type": "execute_result"
    }
   ],
   "source": [
    "cross_val_score(ridge_model,scaled_X_train,y_train,cv=5).mean()##Good crossvalscore"
   ]
  },
  {
   "cell_type": "code",
   "execution_count": 111,
   "metadata": {},
   "outputs": [
    {
     "data": {
      "text/plain": [
       "249.11300260677885"
      ]
     },
     "execution_count": 111,
     "metadata": {},
     "output_type": "execute_result"
    }
   ],
   "source": [
    "ridge_model.alpha_##identify our penalty coefficient"
   ]
  },
  {
   "cell_type": "code",
   "execution_count": 112,
   "metadata": {},
   "outputs": [],
   "source": [
    "x=scaled_X_train.values.tolist()"
   ]
  },
  {
   "cell_type": "code",
   "execution_count": 113,
   "metadata": {},
   "outputs": [],
   "source": [
    "y=y_train.values.tolist()"
   ]
  },
  {
   "cell_type": "code",
   "execution_count": 115,
   "metadata": {},
   "outputs": [
    {
     "data": {
      "text/plain": [
       "166078.1819571253"
      ]
     },
     "execution_count": 115,
     "metadata": {},
     "output_type": "execute_result"
    }
   ],
   "source": [
    "np.exp(ridge_model.intercept_)"
   ]
  },
  {
   "cell_type": "code",
   "execution_count": 116,
   "metadata": {
    "scrolled": false
   },
   "outputs": [
    {
     "data": {
      "text/plain": [
       "[(0.055163952373240496, 'Overall Qual'),\n",
       " (0.04112249035005748, 'GrLivLog'),\n",
       " (0.03455565137002013, 'Gr Liv Area'),\n",
       " (0.03291402476484987, 'Overall Cond'),\n",
       " (0.029269538008178317, '1st Flr SF'),\n",
       " (0.028791006404897193, 'FunctionalOrd'),\n",
       " (0.025363050086879384, 'Total Bsmt SF'),\n",
       " (0.024280152291185225, 'BsmtFin SF 1'),\n",
       " (0.021851439178943544, 'KitchenQualOrd'),\n",
       " (0.020389641977089385, 'LotArealog'),\n",
       " (0.01800892862795661, 'Exterior 1st_BrkFace'),\n",
       " (0.016672634729221293, 'Paved Drive_Y'),\n",
       " (0.016442572752297192, 'Neighborhood_NridgHt'),\n",
       " (0.016396936938790848, 'TotRms AbvGrd'),\n",
       " (0.015894356794705723, 'Screen Porch'),\n",
       " (0.015579653520462288, 'Neighborhood_GrnHill'),\n",
       " (0.01556762278220279, 'Year Built'),\n",
       " (0.014581641934793915, 'Sale Type_New'),\n",
       " (0.014000314852790893, 'BaseQualOrd'),\n",
       " (0.013809794202771007, 'Year Remod/Add'),\n",
       " (0.013444798825759448, 'HeatQcOrd'),\n",
       " (0.013354495013901305, 'BsmtExpOrd'),\n",
       " (0.012979585555569712, 'Garage Area'),\n",
       " (0.01296805782498976, '2nd Flr SF'),\n",
       " (0.012833022158334578, 'Neighborhood_StoneBr'),\n",
       " (0.012813244614495822, 'Neighborhood_Crawfor'),\n",
       " (0.012493315198162984, 'Condition 1_Norm'),\n",
       " (0.01200164639555524, 'Lot Area'),\n",
       " (0.011841224345014778, 'Fireplaces'),\n",
       " (0.011032589438315714, 'BsmtFinOrd1'),\n",
       " (0.010811111872081029, 'Bsmt Full Bath'),\n",
       " (0.010548270661960924, 'Mas Vnr Area'),\n",
       " (0.010345389474483975, 'FullHalfBath'),\n",
       " (0.010232136915012915, 'Full Bath'),\n",
       " (0.01008993740075758, 'Garage Yr Blt'),\n",
       " (0.009862446757275224, 'Fireplace Qu'),\n",
       " (0.009108665943318316, 'MS Zoning_FV'),\n",
       " (0.009021587616385381, 'Foundation_PConc'),\n",
       " (0.008609926194983247, 'MS Zoning_RL'),\n",
       " (0.008507416144684074, 'Condition 1_Feedr'),\n",
       " (0.007739469136901248, 'Garage Cars'),\n",
       " (0.007233598380918711, 'MS SubClass_70'),\n",
       " (0.007159318163794484, 'GrgFinishedOrd'),\n",
       " (0.006683180385523685, 'Condition 1_PosN'),\n",
       " (0.0065774806709045066, 'Heating_GasA'),\n",
       " (0.006514510479504896, 'Sale Type_ConLD'),\n",
       " (0.006380292319836153, 'Neighborhood_Somerst'),\n",
       " (0.006214349594058006, 'Exterior 1st_VinylSd'),\n",
       " (0.00617297279825977, 'Sale Type_Oth'),\n",
       " (0.005868902717863356, 'Wood Deck SF'),\n",
       " (0.005818113185765404, 'Heating_GasW'),\n",
       " (0.005620264781624826, 'Condition 1_PosA'),\n",
       " (0.005610784399485987, 'Neighborhood_NoRidge'),\n",
       " (0.00522989623709591, 'Lot Frontage'),\n",
       " (0.005164729801557475, 'Roof Matl_Membran'),\n",
       " (0.00514762101964336, 'Exterior 2nd_AsphShn'),\n",
       " (0.005120805418182481, 'Sale Type_WD '),\n",
       " (0.005103793031293043, 'Neighborhood_ClearCr'),\n",
       " (0.004712316718695928, 'Sale Type_Con'),\n",
       " (0.004670247363343387, 'GarageCondOrd'),\n",
       " (0.004656021042814345, '3Ssn Porch'),\n",
       " (0.004503061411218336, 'Exterior 2nd_MetalSd'),\n",
       " (0.004365297639299394, 'BsmtFin SF 2'),\n",
       " (0.004300439987878764, 'Open Porch SF'),\n",
       " (0.004227335926599554, 'Roof Matl_WdShngl'),\n",
       " (0.004218693846331302, 'Exterior 1st_MetalSd'),\n",
       " (0.004204403630480137, 'MS SubClass_75'),\n",
       " (0.004010153066041321, 'Neighborhood_BrkSide'),\n",
       " (0.004005094091742433, 'Exterior 1st_WdShing'),\n",
       " (0.00395786051095934, 'Exterior 2nd_Stone'),\n",
       " (0.003951263472887442, 'BaseCondOrd'),\n",
       " (0.003936210293312523, 'Foundation_Stone'),\n",
       " (0.003883093489997504, 'Half Bath'),\n",
       " (0.003846891529871622, 'Paved Drive_P'),\n",
       " (0.003799179234899464, 'Enclosed Porch'),\n",
       " (0.003566806055487602, 'Electrical_SBrkr'),\n",
       " (0.0034713977646200355, 'Exterior 2nd_Wd Sdng'),\n",
       " (0.003445895969539359, 'Exterior 2nd_Brk Cmn'),\n",
       " (0.003223738844720097, 'Exterior 1st_CemntBd'),\n",
       " (0.0032102162835051665, 'Exterior 1st_Stucco'),\n",
       " (0.0030501718637966197, 'MS SubClass_50'),\n",
       " (0.002998576472883772, 'Exterior 2nd_Stucco'),\n",
       " (0.002947378403371477, 'Condition 2_PosA'),\n",
       " (0.002903564729849265, 'MS SubClass_45'),\n",
       " (0.0028025587287398663, 'GarageQualOrd'),\n",
       " (0.0025576884870296785, 'Neighborhood_Greens'),\n",
       " (0.0024974039690342383, 'Condition 2_PosN'),\n",
       " (0.002373876745367043, 'Central Air_Y'),\n",
       " (0.0023671842492305095, 'Foundation_Slab'),\n",
       " (0.0023511920754098053, 'Exterior 2nd_CmentBd'),\n",
       " (0.0022846866677942138, 'Misc Val'),\n",
       " (0.002098576020152875, 'Condition 2_Norm'),\n",
       " (0.0020121415906386463, 'MS Zoning_RH'),\n",
       " (0.0019023155873717336, 'Roof Style_Hip'),\n",
       " (0.001803841121556059, 'MS SubClass_85'),\n",
       " (0.0017656699865046537, 'Neighborhood_Blueste'),\n",
       " (0.0017579488393843514, 'Misc Feature_Othr'),\n",
       " (0.001657063010207035, 'LandSlopeOrd'),\n",
       " (0.0015277331448241339, 'Foundation_Wood'),\n",
       " (0.0015013822654267818, 'Fence_MnPrv'),\n",
       " (0.0012821385707675957, 'Neighborhood_NPkVill'),\n",
       " (0.0012150642492573577, 'Lot Shape_IR2'),\n",
       " (0.0010967850084814968, 'Sale Type_ConLI'),\n",
       " (0.0010596169072703992, 'Exterior 1st_CBlock'),\n",
       " (0.0010387206370056576, 'Condition 2_RRNn'),\n",
       " (0.0009488306012465227, 'HouseStyleOrd'),\n",
       " (0.0008920004910124943, 'PID'),\n",
       " (0.000888887340504674, 'Pool Area'),\n",
       " (0.0008624422144204576, 'Electrical_FuseP'),\n",
       " (0.000848153274171296, 'Neighborhood_BrDale'),\n",
       " (0.0008066503924380943, 'Sale Type_CWD'),\n",
       " (0.0007798515498001919, 'Misc Feature_NA'),\n",
       " (0.0007014191784132232, 'Exterior 2nd_Plywood'),\n",
       " (0.0006872556715387381, 'Id'),\n",
       " (0.000664841247761065, 'Electrical_Mix'),\n",
       " (0.000504343786995951, 'Roof Matl_WdShake'),\n",
       " (0.00039612841018221105, 'Exterior 2nd_ImStucc'),\n",
       " (0.00030313565487697064, 'Fence_NA'),\n",
       " (0.00019765016309005517, 'Roof Style_Shed'),\n",
       " (0.00017708037500577695, 'Yr Sold_2010'),\n",
       " (0.00013686256786991986, 'Exterior 1st_ImStucc'),\n",
       " (-0.0002241963923120799, 'Exterior 1st_HdBoard'),\n",
       " (-0.00023025639671301078, 'Electrical_FuseF'),\n",
       " (-0.00023739841704816946, 'LandContourOrd'),\n",
       " (-0.0002641208308343642, 'Condition 2_Feedr'),\n",
       " (-0.000271601004880248, 'Neighborhood_Timber'),\n",
       " (-0.0002797779025411908, 'Neighborhood_NAmes'),\n",
       " (-0.0002897550887251185, 'MS SubClass_190'),\n",
       " (-0.0005383543825347556, 'Bsmt Half Bath'),\n",
       " (-0.000563099914952413, 'Exterior 2nd_Wd Shng'),\n",
       " (-0.0005997547083866433, 'Sale Type_ConLw'),\n",
       " (-0.0006131647225877504, 'Lot Shape_IR3'),\n",
       " (-0.0006460594606268946, 'Bldg Type_2fmCon'),\n",
       " (-0.0006653822074831966, 'LotFrontageLog'),\n",
       " (-0.0006894164721374848, 'Yr Sold_2009'),\n",
       " (-0.0007068385908791968, 'MS Zoning_RM'),\n",
       " (-0.0007352160923535673, 'Misc Feature_Shed'),\n",
       " (-0.0007640709098047583, 'Yr Sold_2007'),\n",
       " (-0.0008198089374334369, 'BsmtFinOrd2'),\n",
       " (-0.0008942643397520581, 'Condition 1_RRNe'),\n",
       " (-0.0009013539684846081, 'Low Qual Fin SF'),\n",
       " (-0.000925026461166107, 'MS SubClass_40'),\n",
       " (-0.0009740169097851056, 'Mo Sold'),\n",
       " (-0.0010905269208369677, 'Heating_OthW'),\n",
       " (-0.0011307114162438885, 'Yr Sold_2008'),\n",
       " (-0.0012022766480246634, 'Roof Style_Gambrel'),\n",
       " (-0.0012663315707012691, 'Condition 1_RRNn'),\n",
       " (-0.0012897877303956564, 'MS SubClass_90'),\n",
       " (-0.0012897877303956577, 'Bldg Type_Duplex'),\n",
       " (-0.0013358620079269657, 'Bsmt Unf SF'),\n",
       " (-0.0013946685239546908, 'MS SubClass_60'),\n",
       " (-0.001438393042727651, 'YrSldOrd'),\n",
       " (-0.0014553737627192923, 'Neighborhood_Veenker'),\n",
       " (-0.001554839911933451, 'MS SubClass_180'),\n",
       " (-0.0015851580009951923, 'Roof Style_Gable'),\n",
       " (-0.001590186678110987, 'Neighborhood_Mitchel'),\n",
       " (-0.0017118904332033263, 'Exterior 1st_AsphShn'),\n",
       " (-0.0018015476142011822, 'Condition 2_RRAn'),\n",
       " (-0.0020880429137225464, 'Lot Shape_Reg'),\n",
       " (-0.0021564632492513084, 'MS SubClass_120'),\n",
       " (-0.0021596186781686266, 'Exterior 2nd_VinylSd'),\n",
       " (-0.0022348530386516424, 'Neighborhood_Sawyer'),\n",
       " (-0.0023420414129754217, 'Condition 1_RRAe'),\n",
       " (-0.002387055520120886, 'Fence_MnWw'),\n",
       " (-0.00264945365710921, 'Exterior 2nd_HdBoard'),\n",
       " (-0.002705472329932313, 'MS SubClass_80'),\n",
       " (-0.003026391311514104, 'Condition 1_RRAn'),\n",
       " (-0.003126286167483126, 'Exterior 1st_Stone'),\n",
       " (-0.0034226457711145053, 'MS Zoning_I (all)'),\n",
       " (-0.0034980211168298197, 'Neighborhood_CollgCr'),\n",
       " (-0.0035206741835122762, 'Neighborhood_NWAmes'),\n",
       " (-0.0035247997099623427, 'Neighborhood_SWISU'),\n",
       " (-0.003811523901512599, 'Foundation_CBlock'),\n",
       " (-0.003856796835980301, 'Exterior 2nd_BrkFace'),\n",
       " (-0.003942329308967813, 'Misc Feature_TenC'),\n",
       " (-0.004014247907643678, 'Roof Matl_Tar&Grv'),\n",
       " (-0.004341323346818273, 'Exterior 1st_Plywood'),\n",
       " (-0.0043657333545142575, 'Neighborhood_SawyerW'),\n",
       " (-0.004574013271197349, 'MS SubClass_150'),\n",
       " (-0.004817151663987224, 'Exterior 1st_BrkComm'),\n",
       " (-0.004891786798478782, 'Neighborhood_Gilbert'),\n",
       " (-0.004909637131298126, 'Bedroom AbvGr'),\n",
       " (-0.004965733344140658, 'Bldg Type_TwnhsE'),\n",
       " (-0.005166625068957727, 'Exterior 1st_Wd Sdng'),\n",
       " (-0.005323451202976512, 'Bldg Type_Twnhs'),\n",
       " (-0.005504983142766467, 'Fence_GdWo'),\n",
       " (-0.006686440960184583, 'MS SubClass_30'),\n",
       " (-0.007660933990871198, 'YrsRemodeledAfter'),\n",
       " (-0.009014457468455637, 'MS SubClass_160'),\n",
       " (-0.0093833527617266, 'Neighborhood_OldTown'),\n",
       " (-0.00940257908538399, 'Neighborhood_IDOTRR'),\n",
       " (-0.009675366609152254, 'Roof Style_Mansard'),\n",
       " (-0.00986829227959608, 'Neighborhood_MeadowV'),\n",
       " (-0.010270067561519906, 'Kitchen AbvGr'),\n",
       " (-0.010639256511104566, 'Neighborhood_Edwards'),\n",
       " (-0.011196062435645023, 'Heating_Grav'),\n",
       " (-0.013610417833396338, 'Heating_Wall'),\n",
       " (-0.01389829881522235, 'YrsRemodeledBefore'),\n",
       " (-0.0144925262997465, 'MS Zoning_C (all)'),\n",
       " (-0.015608257058242406, 'AgeSold')]"
      ]
     },
     "execution_count": 116,
     "metadata": {},
     "output_type": "execute_result"
    }
   ],
   "source": [
    "best_features = [tup for tup in list(zip(ridge_model.coef_,X1.columns)) if tup[0] != 0]\n",
    "best_features.sort(reverse=True) #descending order\n",
    "best_features##lets zip up our features that were not given a 0 Beta value by our penalty "
   ]
  },
  {
   "cell_type": "code",
   "execution_count": 117,
   "metadata": {
    "scrolled": false
   },
   "outputs": [
    {
     "data": {
      "text/plain": [
       "'Overall Qual'"
      ]
     },
     "execution_count": 117,
     "metadata": {},
     "output_type": "execute_result"
    }
   ],
   "source": [
    "best_features[0][1]"
   ]
  },
  {
   "cell_type": "code",
   "execution_count": 118,
   "metadata": {},
   "outputs": [
    {
     "data": {
      "image/png": "[encoded data removed]",
      "text/plain": [
       "<Figure size 1080x432 with 1 Axes>"
      ]
     },
     "metadata": {
      "needs_background": "light"
     },
     "output_type": "display_data"
    }
   ],
   "source": [
    "#CREDIT GOES TO GREG RANKEL FOR THIS NICE PLOT\n",
    "bf = pd.DataFrame(best_features, columns = ['coef','col'])\n",
    "plt.figure(figsize=(15,6))\n",
    "plt.title(\"Coefficents\", size = 25)\n",
    "ax = sns.scatterplot(x='col',y=\"coef\",data=bf,palette=\"magma\")\n",
    "plt.axhline(0,color = 'red')\n",
    "plt.xticks(fontsize=8, rotation=90)\n",
    "ax.set_xlabel('Coefficients', fontsize = 20)\n",
    "ax.set_ylabel('Coefficient Value', fontsize = 20)\n",
    "\n",
    "plt.show()"
   ]
  },
  {
   "cell_type": "markdown",
   "metadata": {},
   "source": [
    "Graph of ridge coefficients with their respective features. We can see features that hold more weight (higher magnituted coefficients) are important features we have identified before in our heatmap."
   ]
  },
  {
   "cell_type": "code",
   "execution_count": 119,
   "metadata": {},
   "outputs": [
    {
     "data": {
      "text/plain": [
       "(878, 209)"
      ]
     },
     "execution_count": 119,
     "metadata": {},
     "output_type": "execute_result"
    }
   ],
   "source": [
    "test3.shape"
   ]
  },
  {
   "cell_type": "code",
   "execution_count": 120,
   "metadata": {},
   "outputs": [
    {
     "data": {
      "text/plain": [
       "(2047, 209)"
      ]
     },
     "execution_count": 120,
     "metadata": {},
     "output_type": "execute_result"
    }
   ],
   "source": [
    "X1.shape"
   ]
  },
  {
   "cell_type": "code",
   "execution_count": 121,
   "metadata": {},
   "outputs": [
    {
     "data": {
      "text/plain": [
       "(878, 209)"
      ]
     },
     "execution_count": 121,
     "metadata": {},
     "output_type": "execute_result"
    }
   ],
   "source": [
    "test3.shape"
   ]
  },
  {
   "cell_type": "code",
   "execution_count": 122,
   "metadata": {},
   "outputs": [],
   "source": [
    "preds1=ridge_model.predict(scaled_X_train)##Lets get predictions of our train and test splits so we can evaluate"
   ]
  },
  {
   "cell_type": "code",
   "execution_count": 123,
   "metadata": {},
   "outputs": [],
   "source": [
    "preds2=ridge_model.predict(scaled_X_test)"
   ]
  },
  {
   "cell_type": "code",
   "execution_count": 124,
   "metadata": {
    "scrolled": false
   },
   "outputs": [
    {
     "data": {
      "image/png": "[encoded data removed]",
      "text/plain": [
       "<Figure size 432x288 with 1 Axes>"
      ]
     },
     "metadata": {
      "needs_background": "light"
     },
     "output_type": "display_data"
    }
   ],
   "source": [
    "plot_predictions('Ridge',np.exp(preds1),np.exp(preds2),np.exp(y_train),np.exp(y_test))"
   ]
  },
  {
   "cell_type": "markdown",
   "metadata": {},
   "source": [
    "Scatter Plot: Plot of predicted y values versus actualy y values. If our model is 100% accurate, the plot will be a straight line. So we see it is pretty linear and quite a good model. "
   ]
  },
  {
   "cell_type": "code",
   "execution_count": 125,
   "metadata": {},
   "outputs": [],
   "source": [
    "error1=np.exp(preds2)-np.exp(y_test)##residual functions"
   ]
  },
  {
   "cell_type": "code",
   "execution_count": 126,
   "metadata": {},
   "outputs": [
    {
     "data": {
      "text/plain": [
       "Text(0, 0.5, 'Error')"
      ]
     },
     "execution_count": 126,
     "metadata": {},
     "output_type": "execute_result"
    },
    {
     "data": {
      "image/png": "[encoded data removed]",
      "text/plain": [
       "<Figure size 432x288 with 1 Axes>"
      ]
     },
     "metadata": {
      "needs_background": "light"
     },
     "output_type": "display_data"
    }
   ],
   "source": [
    "plt.scatter(range(len(error1)),error1)\n",
    "plt.axhline(0,color='red')\n",
    "plt.xlabel('Index')\n",
    "plt.ylabel('Error')"
   ]
  },
  {
   "cell_type": "markdown",
   "metadata": {},
   "source": [
    "Residual plot: We see a pretty consistent pattern of residuals, confirming homoskedasticity. There is also evident independence of residuals. "
   ]
  },
  {
   "cell_type": "code",
   "execution_count": 127,
   "metadata": {},
   "outputs": [
    {
     "data": {
      "text/plain": [
       "18223.50918664192"
      ]
     },
     "execution_count": 127,
     "metadata": {},
     "output_type": "execute_result"
    }
   ],
   "source": [
    "(metrics.mean_squared_error(np.exp(y_test), np.exp(preds2)))**0.5"
   ]
  },
  {
   "cell_type": "markdown",
   "metadata": {},
   "source": [
    "Our RMSE for the ridge model is 19044.27$. This is much lower than our initial baseline model so that great. "
   ]
  },
  {
   "cell_type": "markdown",
   "metadata": {},
   "source": [
    "## Conclusion & Recommendations"
   ]
  },
  {
   "cell_type": "markdown",
   "metadata": {},
   "source": [
    "We made a baseline model with some basic features and fit it to our training data. Our initial root mean squared error for our baseline model was 34,593.29 dollars. So, on average our predictions for our y_test values were off by a value of 34,593.29 dollars. We evaluated our baseline, see where we could improve it, and we decided on a RidgeCV model. This uses a penalty value to to nullify beta coefficients for values that arent as essential to our model. This model was chosen over Ridge, which minimizes instead of nullifys, for simplicitys sake. Having a lower number of features but still managing to have a low RMSE is an ideal end result we want to look for. So we threw in as many features as we could and allowed the penalty to assign 0 to beta coefficients of variables we didnt need. Our highest Beta coefficients were similar to high value features we identified in our heatmaps. GrLivArea, OverallQual, Total Bsmt SF.  We also applied a logarithmic transformation to our dependent variable, SalePrice, to account for the non normal distribution of SalePrice. This allows our model to handle outliers easier. Our new root mean squared error ends up at 18,223.51$, a major improvement from our baseline model. So, we would recommend using a RidgeCV model and overfitting to allow the Ridge to choose our features based on the penalty coefficient we land on. \n"
   ]
  },
  {
   "cell_type": "code",
   "execution_count": 128,
   "metadata": {
    "scrolled": true
   },
   "outputs": [],
   "source": [
    "preds=ridge_model.predict(test3)"
   ]
  },
  {
   "cell_type": "code",
   "execution_count": 129,
   "metadata": {},
   "outputs": [],
   "source": [
    "preds_col=pd.Series(preds,name='SalePrice')"
   ]
  },
  {
   "cell_type": "code",
   "execution_count": 130,
   "metadata": {},
   "outputs": [],
   "source": [
    "id_col=test2['Id']"
   ]
  },
  {
   "cell_type": "code",
   "execution_count": 131,
   "metadata": {},
   "outputs": [],
   "source": [
    "output=pd.concat([id_col,np.exp(preds_col)],axis=1)\n"
   ]
  },
  {
   "cell_type": "code",
   "execution_count": 132,
   "metadata": {},
   "outputs": [
    {
     "data": {
      "text/html": [
       "<div>\n",
       "<style scoped>\n",
       "    .dataframe tbody tr th:only-of-type {\n",
       "        vertical-align: middle;\n",
       "    }\n",
       "\n",
       "    .dataframe tbody tr th {\n",
       "        vertical-align: top;\n",
       "    }\n",
       "\n",
       "    .dataframe thead th {\n",
       "        text-align: right;\n",
       "    }\n",
       "</style>\n",
       "<table border=\"1\" class=\"dataframe\">\n",
       "  <thead>\n",
       "    <tr style=\"text-align: right;\">\n",
       "      <th></th>\n",
       "      <th>Id</th>\n",
       "      <th>SalePrice</th>\n",
       "    </tr>\n",
       "  </thead>\n",
       "  <tbody>\n",
       "    <tr>\n",
       "      <th>0</th>\n",
       "      <td>2658</td>\n",
       "      <td>137774.183694</td>\n",
       "    </tr>\n",
       "    <tr>\n",
       "      <th>1</th>\n",
       "      <td>2718</td>\n",
       "      <td>158194.062350</td>\n",
       "    </tr>\n",
       "    <tr>\n",
       "      <th>2</th>\n",
       "      <td>2414</td>\n",
       "      <td>223272.285667</td>\n",
       "    </tr>\n",
       "    <tr>\n",
       "      <th>3</th>\n",
       "      <td>1989</td>\n",
       "      <td>98564.350207</td>\n",
       "    </tr>\n",
       "    <tr>\n",
       "      <th>4</th>\n",
       "      <td>625</td>\n",
       "      <td>171677.013802</td>\n",
       "    </tr>\n",
       "    <tr>\n",
       "      <th>5</th>\n",
       "      <td>333</td>\n",
       "      <td>90606.791204</td>\n",
       "    </tr>\n",
       "    <tr>\n",
       "      <th>6</th>\n",
       "      <td>1327</td>\n",
       "      <td>112094.448815</td>\n",
       "    </tr>\n",
       "    <tr>\n",
       "      <th>7</th>\n",
       "      <td>858</td>\n",
       "      <td>151151.711367</td>\n",
       "    </tr>\n",
       "    <tr>\n",
       "      <th>8</th>\n",
       "      <td>95</td>\n",
       "      <td>169919.556269</td>\n",
       "    </tr>\n",
       "    <tr>\n",
       "      <th>9</th>\n",
       "      <td>1568</td>\n",
       "      <td>162190.895696</td>\n",
       "    </tr>\n",
       "  </tbody>\n",
       "</table>\n",
       "</div>"
      ],
      "text/plain": [
       "     Id      SalePrice\n",
       "0  2658  137774.183694\n",
       "1  2718  158194.062350\n",
       "2  2414  223272.285667\n",
       "3  1989   98564.350207\n",
       "4   625  171677.013802\n",
       "5   333   90606.791204\n",
       "6  1327  112094.448815\n",
       "7   858  151151.711367\n",
       "8    95  169919.556269\n",
       "9  1568  162190.895696"
      ]
     },
     "execution_count": 132,
     "metadata": {},
     "output_type": "execute_result"
    }
   ],
   "source": [
    "output.head(10)"
   ]
  },
  {
   "cell_type": "code",
   "execution_count": 133,
   "metadata": {},
   "outputs": [],
   "source": [
    "output.to_csv('./output/submission1.csv',index=False)"
   ]
  },
  {
   "cell_type": "code",
   "execution_count": null,
   "metadata": {},
   "outputs": [],
   "source": []
  },
  {
   "cell_type": "code",
   "execution_count": null,
   "metadata": {},
   "outputs": [],
   "source": []
  }
 ],
 "metadata": {
  "kernelspec": {
   "display_name": "Python 3",
   "language": "python",
   "name": "python3"
  },
  "language_info": {
   "codemirror_mode": {
    "name": "ipython",
    "version": 3
   },
   "file_extension": ".py",
   "mimetype": "text/x-python",
   "name": "python",
   "nbconvert_exporter": "python",
   "pygments_lexer": "ipython3",
   "version": "3.7.4"
  },
  "toc": {
   "base_numbering": 1,
   "nav_menu": {},
   "number_sections": true,
   "sideBar": true,
   "skip_h1_title": false,
   "title_cell": "Table of Contents",
   "title_sidebar": "Contents",
   "toc_cell": false,
   "toc_position": {},
   "toc_section_display": true,
   "toc_window_display": false
  }
 },
 "nbformat": 4,
 "nbformat_minor": 2
}
